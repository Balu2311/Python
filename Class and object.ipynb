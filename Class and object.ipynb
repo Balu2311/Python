{
 "cells": [
  {
   "cell_type": "markdown",
   "metadata": {},
   "source": [
    "# Person"
   ]
  },
  {
   "cell_type": "code",
   "execution_count": 10,
   "metadata": {},
   "outputs": [
    {
     "name": "stdout",
     "output_type": "stream",
     "text": [
      "Hi i am  balu\n",
      "i am  male\n",
      "i am eligible to vote\n"
     ]
    }
   ],
   "source": [
    "class Person :\n",
    "    \n",
    "    def __init__(self):\n",
    "        self.name=\"balu\"\n",
    "        self.age=23\n",
    "        self.gender=\"male\"\n",
    "        \n",
    "    def talk(self):\n",
    "        print(\"Hi i am \", self.name)\n",
    "    \n",
    "    def sex(self):\n",
    "        print(\"i am \", self.gender)\n",
    "        \n",
    "    def vote(self):\n",
    "        if self.age<18 :\n",
    "            print(\"i am not eligible to vote\")\n",
    "        else:\n",
    "            print(\"i am eligible to vote\")\n",
    "            \n",
    "obj=Person()\n",
    "Person.talk(obj)\n",
    "Person.sex(obj)\n",
    "Person.vote(obj)"
   ]
  },
  {
   "cell_type": "code",
   "execution_count": 9,
   "metadata": {},
   "outputs": [
    {
     "name": "stdout",
     "output_type": "stream",
     "text": [
      "hi i'm  sam\n",
      "i am eligible to vote\n"
     ]
    }
   ],
   "source": [
    "class Person :\n",
    "    def __init__(self):\n",
    "        self.name =\"sam\"\n",
    "        self.gender =\"male\"\n",
    "        self.age =22\n",
    "        \n",
    "    def talk(self):\n",
    "        print(\"hi i'm \", self.name)\n",
    "        \n",
    "    def vote(self):\n",
    "        if self.age<18 :\n",
    "            print(\"i am not eligible to vote\")\n",
    "        else:\n",
    "            print(\"i am eligible to vote\")\n",
    "            \n",
    "obj = Person()\n",
    "Person.talk(obj)\n",
    "Person.vote(obj)"
   ]
  },
  {
   "cell_type": "code",
   "execution_count": 11,
   "metadata": {},
   "outputs": [
    {
     "name": "stdout",
     "output_type": "stream",
     "text": [
      "Hi i am  balu\n",
      "i am  male\n",
      "i am eligible to vote\n"
     ]
    }
   ],
   "source": [
    "class Person :\n",
    "    \n",
    "    def __init__(self):\n",
    "        self.name=\"balu\"\n",
    "        self.age=23\n",
    "        self.gender=\"male\"\n",
    "        \n",
    "    def talk(self):\n",
    "        print(\"Hi i am \", self.name)\n",
    "    \n",
    "    def sex(self):\n",
    "        print(\"i am \", self.gender)\n",
    "        \n",
    "    def vote(self):\n",
    "        if self.age<18 :\n",
    "            print(\"i am not eligible to vote\")\n",
    "        else:\n",
    "            print(\"i am eligible to vote\")\n",
    "            \n",
    "obj=Person()\n",
    "obj.talk()\n",
    "obj.sex()\n",
    "obj.vote()"
   ]
  },
  {
   "cell_type": "code",
   "execution_count": 12,
   "metadata": {},
   "outputs": [
    {
     "name": "stdout",
     "output_type": "stream",
     "text": [
      "balu Reddy\n"
     ]
    }
   ],
   "source": [
    "#unit method\n",
    "class Person :\n",
    "    \n",
    "    def __init__(self,n,a,g):\n",
    "        self.name=n\n",
    "        self.age=a\n",
    "        self.gender=g\n",
    "        \n",
    "    def talk(self):\n",
    "        print(\"Hi i am \", self.name)\n",
    "    \n",
    "    def sex(self):\n",
    "        print(\"i am \", self.gender)\n",
    "        \n",
    "    def vote(self):\n",
    "        if self.age<18 :\n",
    "            print(\"i am not eligible to vote\")\n",
    "        else:\n",
    "            print(\"i am eligible to vote\")\n",
    "            \n",
    "obj1=Person(\"balu\",\"male\",23)\n",
    "obj2=Person(\"Reddy\",\"male\",22)\n",
    "print(obj1.name, obj2.name)\n"
   ]
  },
  {
   "cell_type": "markdown",
   "metadata": {},
   "source": [
    "# unit method"
   ]
  },
  {
   "cell_type": "code",
   "execution_count": 26,
   "metadata": {},
   "outputs": [
    {
     "name": "stdout",
     "output_type": "stream",
     "text": [
      "Hi i am  balu\n",
      "i am  male\n",
      "i am eligible to vote\n",
      "Hi i am  Reddy\n",
      "i am  male\n",
      "i am not eligible to vote\n"
     ]
    }
   ],
   "source": [
    "class Person :\n",
    "    \n",
    "    def __init__(self,n,g,a):\n",
    "        self.name=n\n",
    "        self.gender=g\n",
    "        self.age=a\n",
    "        \n",
    "    def talk(self):\n",
    "        print(\"Hi i am \", self.name)\n",
    "        \n",
    "    \n",
    "    def sex(self):\n",
    "        print(\"i am \", self.gender)\n",
    "        \n",
    "        \n",
    "    def vote(self):\n",
    "        if self.age < 18 :\n",
    "            print(\"i am not eligible to vote\")\n",
    "        else:\n",
    "            print(\"i am eligible to vote\")\n",
    "            \n",
    "            \n",
    "obj1=Person(\"balu\",\"male\",23)\n",
    "obj2=Person(\"Reddy\",\"male\",17)\n",
    "obj1.talk()\n",
    "obj1.sex()\n",
    "obj1.vote()\n",
    "\n",
    "obj2.talk()\n",
    "obj2.sex()\n",
    "obj2.vote()"
   ]
  },
  {
   "cell_type": "code",
   "execution_count": 19,
   "metadata": {},
   "outputs": [
    {
     "name": "stdout",
     "output_type": "stream",
     "text": [
      "Hi i am  balu\n",
      "i am eligible to vote\n",
      "Hi i am  Reddy\n",
      "i am eligible to vote\n"
     ]
    }
   ],
   "source": [
    "class Person :\n",
    "    \n",
    "    def __init__(self,n,g,a):\n",
    "        self.name=n\n",
    "        self.gender=g\n",
    "        self.age=a\n",
    "        \n",
    "    def talk(self):\n",
    "        print(\"Hi i am \", self.name)\n",
    "  \n",
    "\n",
    "    def vote(self):\n",
    "        if self.age < 18 :\n",
    "            print(\"i am not eligible to vote\")\n",
    "        else:\n",
    "            print(\"i am eligible to vote\")\n",
    "\n",
    "            \n",
    "obj1=Person(\"balu\",\"male\",23)\n",
    "obj2=Person(\"Reddy\",\"male\",22)\n",
    "obj1.talk()\n",
    "obj1.vote()\n",
    "\n",
    "obj2.talk()\n",
    "obj2.vote()"
   ]
  },
  {
   "cell_type": "code",
   "execution_count": 2,
   "metadata": {},
   "outputs": [
    {
     "ename": "IndentationError",
     "evalue": "unexpected indent (<ipython-input-2-72bc02b387ad>, line 12)",
     "output_type": "error",
     "traceback": [
      "\u001b[1;36m  File \u001b[1;32m\"<ipython-input-2-72bc02b387ad>\"\u001b[1;36m, line \u001b[1;32m12\u001b[0m\n\u001b[1;33m    print(\"i am not eligible to vote\")\u001b[0m\n\u001b[1;37m    ^\u001b[0m\n\u001b[1;31mIndentationError\u001b[0m\u001b[1;31m:\u001b[0m unexpected indent\n"
     ]
    }
   ],
   "source": [
    "class Person :\n",
    "    def __init__(self):\n",
    "        self.name =\"sam\"\n",
    "        self.gender =\"male\"\n",
    "        self.age =22\n",
    "        \n",
    "    def talk(self):\n",
    "        print(\"hi i'm \", self.name)\n",
    "        \n",
    "    #def vote(self):\n",
    "        #if self.age<18 :\n",
    "            print(\"i am not eligible to vote\")\n",
    "        #else:\n",
    "            print(\"i am eligible to vote\")\n",
    "            \n",
    "obj = Person()\n",
    "Person.talk(obj)\n",
    "Person.vote(obj)"
   ]
  },
  {
   "cell_type": "code",
   "execution_count": null,
   "metadata": {},
   "outputs": [],
   "source": []
  }
 ],
 "metadata": {
  "kernelspec": {
   "display_name": "Python 3",
   "language": "python",
   "name": "python3"
  },
  "language_info": {
   "codemirror_mode": {
    "name": "ipython",
    "version": 3
   },
   "file_extension": ".py",
   "mimetype": "text/x-python",
   "name": "python",
   "nbconvert_exporter": "python",
   "pygments_lexer": "ipython3",
   "version": "3.7.3"
  }
 },
 "nbformat": 4,
 "nbformat_minor": 2
}
