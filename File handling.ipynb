{
 "cells": [
  {
   "cell_type": "code",
   "execution_count": 31,
   "metadata": {},
   "outputs": [
    {
     "name": "stdout",
     "output_type": "stream",
     "text": [
      "FileA.txt\n"
     ]
    }
   ],
   "source": [
    "f = open ('FileA1.txt', 'r')\n",
    "print(f.name)"
   ]
  },
  {
   "cell_type": "code",
   "execution_count": 32,
   "metadata": {},
   "outputs": [
    {
     "name": "stdout",
     "output_type": "stream",
     "text": [
      "r\n"
     ]
    }
   ],
   "source": [
    "f = open ('FileA1.txt', 'r')\n",
    "print(f.mode)\n",
    "f.close()"
   ]
  },
  {
   "cell_type": "code",
   "execution_count": 33,
   "metadata": {},
   "outputs": [
    {
     "name": "stdout",
     "output_type": "stream",
     "text": [
      "\n"
     ]
    }
   ],
   "source": [
    "#filr read mode\n",
    "f = open ('FileA1.txt', 'r')\n",
    "print(f.read())"
   ]
  },
  {
   "cell_type": "code",
   "execution_count": 34,
   "metadata": {},
   "outputs": [
    {
     "name": "stdout",
     "output_type": "stream",
     "text": [
      "\n"
     ]
    }
   ],
   "source": [
    "f = open ('FileA1.txt', 'r')\n",
    "print(f.read(5))"
   ]
  },
  {
   "cell_type": "code",
   "execution_count": 35,
   "metadata": {},
   "outputs": [],
   "source": [
    "#create a file  write model\n",
    "file = open('FileC.txt', 'w')\n",
    "file.write(\"This is the write command\")\n",
    "file.write(\"It allows us to write in a particular file\")\n",
    "file.close()"
   ]
  },
  {
   "cell_type": "code",
   "execution_count": 36,
   "metadata": {},
   "outputs": [
    {
     "name": "stdout",
     "output_type": "stream",
     "text": [
      "This is the write commandIt allows us to write in a particular file\n"
     ]
    }
   ],
   "source": [
    "f = open ('FileC.txt', 'r')\n",
    "print(f.read())"
   ]
  },
  {
   "cell_type": "code",
   "execution_count": 37,
   "metadata": {},
   "outputs": [],
   "source": [
    "#working of append mode\n",
    "file = open ('fileC.txt', 'a')\n",
    "file.write(\"this will add this line\")\n",
    "file.close()"
   ]
  },
  {
   "cell_type": "code",
   "execution_count": 38,
   "metadata": {},
   "outputs": [
    {
     "name": "stdout",
     "output_type": "stream",
     "text": [
      "This is the write commandIt allows us to write in a particular filethis will add this line\n"
     ]
    }
   ],
   "source": [
    "f = open ('FileC.txt', 'r')\n",
    "print(f.read())"
   ]
  },
  {
   "cell_type": "code",
   "execution_count": 41,
   "metadata": {},
   "outputs": [],
   "source": [
    "#using with comend\n",
    "with open ('FileB.txt', 'r') as file:\n",
    "    data = file.read()"
   ]
  },
  {
   "cell_type": "code",
   "execution_count": 42,
   "metadata": {},
   "outputs": [],
   "source": [
    "with open ('Filed.txt', 'w') as f:\n",
    "    f.write('hello world!!!')"
   ]
  },
  {
   "cell_type": "code",
   "execution_count": 43,
   "metadata": {},
   "outputs": [
    {
     "name": "stdout",
     "output_type": "stream",
     "text": [
      "['Python', 'file', 'handling', 'is', 'one', 'of', 'the', 'essential', 'topics', 'for', 'programmers', 'and', 'automation', 'testers.']\n",
      "['Both', 'of', 'them', 'needs', 'to', 'work', 'with', 'files', 'either', 'to', 'write', 'to', 'a', 'file', 'or', 'to', 'read', 'data', 'from', 'it.']\n",
      "['Also,', 'if', 'you', 'are', 'not', 'already', 'aware,', 'I/O', 'operations', 'are', 'the', 'costliest', 'operations', 'where', 'a', 'program', 'can', 'stumble.']\n",
      "['Hence,', 'you', 'should', 'be', 'quite', 'careful', 'while', 'implementing', 'file', 'handling', 'for', 'reporting', 'or', 'any', 'other', 'purpose.']\n",
      "['Optimizing', 'a', 'single', 'file', 'operation', 'can', 'help', 'you', 'produce', 'an', 'high-performing', 'application', 'or', 'a', 'robust', 'solution', 'for', 'automated', 'software', 'testing.']\n",
      "['Let’s', 'take', 'an', 'example,', 'say,', 'you', 'are', 'going', 'to', 'create', 'a', 'big', 'project', 'in', 'Python', 'which', 'contains', 'a', 'no.', 'of', 'workflows.']\n",
      "['Then,', 'it’s', 'inevitable', 'for', 'you', 'not', 'to', 'create', 'a', 'log', 'file.']\n",
      "['And', 'you’ll', 'also', 'be', 'doing', 'both', 'the', 'read/write', 'operations', 'on', 'the', 'log', 'file.']\n",
      "['Log', 'files', 'are', 'a', 'great', 'tool', 'to', 'debug', 'large', 'programs.']\n",
      "['It’s', 'always', 'better', 'to', 'think', 'about', 'a', 'scalable', 'design', 'from', 'the', 'beginning,', 'as', 'you', 'won’t', 'regret', 'it', 'later', 'that', 'you', 'didn’t', 'do', 'it.']\n"
     ]
    }
   ],
   "source": [
    "#split using\n",
    "with open ('FileB.txt', 'r') as file:\n",
    "    data = file.readlines()\n",
    "    for line in data:\n",
    "        word = line.split()\n",
    "        print(word)"
   ]
  },
  {
   "cell_type": "code",
   "execution_count": null,
   "metadata": {},
   "outputs": [],
   "source": []
  }
 ],
 "metadata": {
  "kernelspec": {
   "display_name": "Python 3",
   "language": "python",
   "name": "python3"
  },
  "language_info": {
   "codemirror_mode": {
    "name": "ipython",
    "version": 3
   },
   "file_extension": ".py",
   "mimetype": "text/x-python",
   "name": "python",
   "nbconvert_exporter": "python",
   "pygments_lexer": "ipython3",
   "version": "3.7.3"
  }
 },
 "nbformat": 4,
 "nbformat_minor": 2
}
