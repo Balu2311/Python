{
 "cells": [
  {
   "cell_type": "code",
   "execution_count": 2,
   "metadata": {},
   "outputs": [
    {
     "name": "stdout",
     "output_type": "stream",
     "text": [
      "good morninig\n"
     ]
    }
   ],
   "source": [
    "def welcome():\n",
    "    print(\"good morninig\")\n",
    "welcome()"
   ]
  },
  {
   "cell_type": "code",
   "execution_count": 4,
   "metadata": {},
   "outputs": [
    {
     "name": "stdout",
     "output_type": "stream",
     "text": [
      "the sum is 30\n",
      "the sum is 5\n"
     ]
    }
   ],
   "source": [
    "def welcome():\n",
    "    print(\"good morninig\")\n",
    "def add(a,b):\n",
    "    total=a+b\n",
    "    print(\"the sum is\", total)\n",
    "add(10,20)\n",
    "x=2\n",
    "y=3\n",
    "add(x, y)"
   ]
  },
  {
   "cell_type": "code",
   "execution_count": 5,
   "metadata": {},
   "outputs": [
    {
     "name": "stdout",
     "output_type": "stream",
     "text": [
      "a:10   b:20\n",
      "the sum is 30\n",
      "a:2   b:3\n",
      "the sum is 5\n"
     ]
    }
   ],
   "source": [
    "def welcome():\n",
    "    print(\"good morninig\")\n",
    "def add(a,b):\n",
    "    total=a+b\n",
    "    print(\"a:%d   b:%d\" %(a,b))\n",
    "    print(\"the sum is\", total)\n",
    "add(10,20)\n",
    "x=2\n",
    "y=3\n",
    "add(x, y)"
   ]
  },
  {
   "cell_type": "code",
   "execution_count": 6,
   "metadata": {},
   "outputs": [
    {
     "name": "stdout",
     "output_type": "stream",
     "text": [
      "a:20   b:10\n",
      "the sum is 30\n",
      "a:3   b:2\n",
      "the sum is 5\n"
     ]
    }
   ],
   "source": [
    "def welcome():\n",
    "    print(\"good morninig\")\n",
    "def add(b, a):\n",
    "    total=a+b\n",
    "    print(\"a:%d   b:%d\" %(a,b))\n",
    "    print(\"the sum is\", total)\n",
    "add(10,20)\n",
    "x=2\n",
    "y=3\n",
    "add(x, y)"
   ]
  },
  {
   "cell_type": "code",
   "execution_count": 7,
   "metadata": {},
   "outputs": [
    {
     "name": "stdout",
     "output_type": "stream",
     "text": [
      "a:10   b:20\n",
      "the sum is 30\n",
      "a:3   b:2\n",
      "the sum is 5\n"
     ]
    }
   ],
   "source": [
    "def welcome():\n",
    "    print(\"good morninig\")\n",
    "def add(b, a):\n",
    "    total=a+b\n",
    "    print(\"a:%d   b:%d\" %(a,b))\n",
    "    print(\"the sum is\", total)\n",
    "add(a=10,b=20)\n",
    "x=2\n",
    "y=3\n",
    "add(x, y)"
   ]
  },
  {
   "cell_type": "code",
   "execution_count": 8,
   "metadata": {},
   "outputs": [
    {
     "name": "stdout",
     "output_type": "stream",
     "text": [
      "a:10   b:0\n",
      "the sum is 10\n"
     ]
    }
   ],
   "source": [
    "def welcome():\n",
    "    print(\"good morninig\")\n",
    "def add(a=0,b=0):\n",
    "    total=a+b\n",
    "    print(\"a:%d   b:%d\" %(a,b))\n",
    "    print(\"the sum is\", total)\n",
    "add(10)"
   ]
  },
  {
   "cell_type": "code",
   "execution_count": 10,
   "metadata": {},
   "outputs": [
    {
     "name": "stdout",
     "output_type": "stream",
     "text": [
      "the sum is 110\n"
     ]
    }
   ],
   "source": [
    "def add(*a):\n",
    "    total=0\n",
    "    for i in a:\n",
    "        total=total+i\n",
    "    print(\"the sum is\", total)\n",
    "add(10,20,30,50)"
   ]
  },
  {
   "cell_type": "code",
   "execution_count": 13,
   "metadata": {},
   "outputs": [
    {
     "name": "stdout",
     "output_type": "stream",
     "text": [
      "the sum is 5\n",
      "the sum is 30\n"
     ]
    }
   ],
   "source": [
    "def add(a, b):\n",
    "    a=2\n",
    "    b=3\n",
    "    total=a+b\n",
    "    print(\"the sum is\", total)\n",
    "x=10\n",
    "y=20\n",
    "add(x, y)\n",
    "print(\"the sum is\", x+y)"
   ]
  },
  {
   "cell_type": "code",
   "execution_count": 14,
   "metadata": {},
   "outputs": [
    {
     "name": "stdout",
     "output_type": "stream",
     "text": [
      "140712740623456 140712740623776\n",
      "140712740623456 140712740623776\n",
      "140712740623200 140712740623232\n",
      "the sum is 5\n",
      "the sum is 30\n"
     ]
    }
   ],
   "source": [
    "def add(a, b):\n",
    "    print(id(a), id(b))\n",
    "    a=2\n",
    "    b=3\n",
    "    print(id(a), id(b))\n",
    "    total=a+b\n",
    "    print(\"the sum is\", total)\n",
    "x=10\n",
    "y=20\n",
    "print(id(x), id(y))\n",
    "add(x, y)\n",
    "print(\"the sum is\", x+y)"
   ]
  },
  {
   "cell_type": "code",
   "execution_count": 15,
   "metadata": {},
   "outputs": [
    {
     "name": "stdout",
     "output_type": "stream",
     "text": [
      "[0, 1, 2]\n",
      "[0, 1, 0]\n"
     ]
    }
   ],
   "source": [
    "def add(lst):\n",
    "    lst[2]=0\n",
    "    \n",
    "lst=[0,1,2]\n",
    "print(lst)\n",
    "add(lst)\n",
    "print(lst)"
   ]
  },
  {
   "cell_type": "code",
   "execution_count": 16,
   "metadata": {},
   "outputs": [
    {
     "name": "stdout",
     "output_type": "stream",
     "text": [
      "the sum is  30\n"
     ]
    }
   ],
   "source": [
    "def add(a,b):\n",
    "    total=a+b\n",
    "    return total\n",
    "\n",
    "result = add(10,20)\n",
    "print(\"the sum is \", result)"
   ]
  },
  {
   "cell_type": "markdown",
   "metadata": {},
   "source": [
    "# Lambda"
   ]
  },
  {
   "cell_type": "code",
   "execution_count": 17,
   "metadata": {},
   "outputs": [
    {
     "name": "stdout",
     "output_type": "stream",
     "text": [
      "30\n"
     ]
    }
   ],
   "source": [
    "fun = lambda a,b:a+b\n",
    "print(fun(10,20))"
   ]
  },
  {
   "cell_type": "code",
   "execution_count": null,
   "metadata": {},
   "outputs": [],
   "source": []
  }
 ],
 "metadata": {
  "kernelspec": {
   "display_name": "Python 3",
   "language": "python",
   "name": "python3"
  },
  "language_info": {
   "codemirror_mode": {
    "name": "ipython",
    "version": 3
   },
   "file_extension": ".py",
   "mimetype": "text/x-python",
   "name": "python",
   "nbconvert_exporter": "python",
   "pygments_lexer": "ipython3",
   "version": "3.7.3"
  }
 },
 "nbformat": 4,
 "nbformat_minor": 2
}
