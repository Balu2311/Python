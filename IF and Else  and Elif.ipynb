{
 "cells": [
  {
   "cell_type": "code",
   "execution_count": 1,
   "metadata": {},
   "outputs": [
    {
     "name": "stdout",
     "output_type": "stream",
     "text": [
      "this is outside the if block\n"
     ]
    }
   ],
   "source": [
    "a= 20\n",
    "if a>50 :\n",
    "    print(\"this is the if body\")\n",
    "print(\"this is outside the if block\")"
   ]
  },
  {
   "cell_type": "code",
   "execution_count": 2,
   "metadata": {},
   "outputs": [
    {
     "name": "stdout",
     "output_type": "stream",
     "text": [
      "this is the if body\n",
      "this is outside the if block\n"
     ]
    }
   ],
   "source": [
    "a= 60\n",
    "if a>50 :\n",
    "    print(\"this is the if body\")\n",
    "print(\"this is outside the if block\")"
   ]
  },
  {
   "cell_type": "code",
   "execution_count": 3,
   "metadata": {},
   "outputs": [
    {
     "name": "stdout",
     "output_type": "stream",
     "text": [
      "this is the if block\n",
      "i is an even number\n"
     ]
    }
   ],
   "source": [
    "i = 20\n",
    "if i%2==0:\n",
    "    print(\"this is the if block\")\n",
    "    print(\"i is an even number\")\n",
    "else:\n",
    "    print(\"this is the if else block\")\n",
    "    print(\"i is an odd number\")"
   ]
  },
  {
   "cell_type": "code",
   "execution_count": 4,
   "metadata": {},
   "outputs": [
    {
     "name": "stdout",
     "output_type": "stream",
     "text": [
      "this is the if else block\n",
      "i is an odd number\n"
     ]
    }
   ],
   "source": [
    "i = 23\n",
    "if i%2==0:\n",
    "    print(\"this is the if block\")\n",
    "    print(\"i is an even number\")\n",
    "else:\n",
    "    print(\"this is the if else block\")\n",
    "    print(\"i is an odd number\")"
   ]
  },
  {
   "cell_type": "markdown",
   "metadata": {},
   "source": [
    "Nested if statement"
   ]
  },
  {
   "cell_type": "code",
   "execution_count": 5,
   "metadata": {},
   "outputs": [
    {
     "name": "stdout",
     "output_type": "stream",
     "text": [
      "c is an odd number less than 25\n"
     ]
    }
   ],
   "source": [
    "c=21\n",
    "if c<25:\n",
    "    if c%2==0:\n",
    "        print(\"c is an even number less than 25\")\n",
    "    else:\n",
    "        print(\"c is an odd number less than 25\")\n",
    "else:\n",
    "    print(\"c is greater than 25\")"
   ]
  },
  {
   "cell_type": "code",
   "execution_count": 6,
   "metadata": {},
   "outputs": [
    {
     "name": "stdout",
     "output_type": "stream",
     "text": [
      "c is greater than 25\n"
     ]
    }
   ],
   "source": [
    "c=50\n",
    "if c<25:\n",
    "    if c%2==0:\n",
    "        print(\"c is an even number less than 25\")\n",
    "    else:\n",
    "        print(\"c is an odd number less than 25\")\n",
    "else:\n",
    "    print(\"c is greater than 25\")"
   ]
  },
  {
   "cell_type": "code",
   "execution_count": 9,
   "metadata": {},
   "outputs": [
    {
     "name": "stdout",
     "output_type": "stream",
     "text": [
      "this is a consonant\n"
     ]
    }
   ],
   "source": [
    "var=\"z\"\n",
    "if var =='a':\n",
    "    print(\"this is the vowel a\")\n",
    "elif var=='e':\n",
    "    print(\"this is the vowel e\")\n",
    "elif var=='i':\n",
    "    print(\"this is the vowel i\")\n",
    "elif var=='o':\n",
    "    print(\"this is the vowel o\")\n",
    "elif var=='u':\n",
    "    print(\"this is the vowel u\")\n",
    "else:\n",
    "    print(\"this is a consonant\")"
   ]
  },
  {
   "cell_type": "code",
   "execution_count": 10,
   "metadata": {},
   "outputs": [
    {
     "name": "stdout",
     "output_type": "stream",
     "text": [
      "this is the vowel o\n"
     ]
    }
   ],
   "source": [
    "var=\"o\"\n",
    "if var =='a':\n",
    "    print(\"this is the vowel a\")\n",
    "elif var=='e':\n",
    "    print(\"this is the vowel e\")\n",
    "elif var=='i':\n",
    "    print(\"this is the vowel i\")\n",
    "elif var=='o':\n",
    "    print(\"this is the vowel o\")\n",
    "elif var=='u':\n",
    "    print(\"this is the vowel u\")\n",
    "else:\n",
    "    print(\"this is a consonant\")"
   ]
  },
  {
   "cell_type": "code",
   "execution_count": 11,
   "metadata": {},
   "outputs": [
    {
     "name": "stdout",
     "output_type": "stream",
     "text": [
      "the gretest number is c\n"
     ]
    }
   ],
   "source": [
    "a= 10 \n",
    "b=15\n",
    "c=20\n",
    "if (a>b) and (a>c):\n",
    "    print(\"the greatest number is a\")\n",
    "elif (b>a) and (b>c):\n",
    "    print(\"the greatest number is b\")\n",
    "else:\n",
    "    print(\"the gretest number is c\")"
   ]
  },
  {
   "cell_type": "code",
   "execution_count": 13,
   "metadata": {},
   "outputs": [
    {
     "name": "stdout",
     "output_type": "stream",
     "text": [
      "the greatest number is aa\n"
     ]
    }
   ],
   "source": [
    "aa=350\n",
    "bb=250\n",
    "cc=300\n",
    "if (aa>bb) :\n",
    "    if (aa>cc) :\n",
    "        print(\"the greatest number is aa\")\n",
    "elif (bb>cc) :\n",
    "    if (bb>aa) :\n",
    "        print(\"the greatest number is bb\")\n",
    "else:\n",
    "    print(\"the gretest number is cc\")"
   ]
  },
  {
   "cell_type": "code",
   "execution_count": 14,
   "metadata": {},
   "outputs": [
    {
     "name": "stdout",
     "output_type": "stream",
     "text": [
      "350 is the greatest number \n"
     ]
    }
   ],
   "source": [
    "aa=350\n",
    "bb=250\n",
    "cc=300\n",
    "if (aa>bb) :\n",
    "    if (aa>cc) :\n",
    "        print(\"%d is the greatest number \"%aa)\n",
    "elif (bb>cc) :\n",
    "    if (bb>aa) :\n",
    "        print(\"%d is the greatest number\"%bb)\n",
    "else:\n",
    "    print(\"%d is the gretest number\"%cc)"
   ]
  },
  {
   "cell_type": "code",
   "execution_count": 15,
   "metadata": {},
   "outputs": [
    {
     "name": "stdout",
     "output_type": "stream",
     "text": [
      "it is divisible by 3\n"
     ]
    }
   ],
   "source": [
    "d = 15 \n",
    "if d%2==0:\n",
    "    print(\"it is divisible by 2\")\n",
    "elif d%3==0:\n",
    "    print(\"it is divisible by 3\")\n",
    "elif d%5==0:\n",
    "    print(\"it is divisible by 5\")\n",
    "else:\n",
    "    print(\"the number is not divisible by 2,3 or 5\")"
   ]
  },
  {
   "cell_type": "code",
   "execution_count": 16,
   "metadata": {},
   "outputs": [
    {
     "name": "stdout",
     "output_type": "stream",
     "text": [
      "it is divisible by 2\n"
     ]
    }
   ],
   "source": [
    "d = 12\n",
    "if d%2==0:\n",
    "    print(\"it is divisible by 2\")\n",
    "elif d%3==0:\n",
    "    print(\"it is divisible by 3\")\n",
    "elif d%5==0:\n",
    "    print(\"it is divisible by 5\")\n",
    "else:\n",
    "    print(\"the number is not divisible by 2,3 or 5\")"
   ]
  },
  {
   "cell_type": "code",
   "execution_count": 17,
   "metadata": {},
   "outputs": [
    {
     "name": "stdout",
     "output_type": "stream",
     "text": [
      "it is divisible by 2\n",
      "it is divisible by 3\n",
      "the number is not divisible by 2,3 or 5\n"
     ]
    }
   ],
   "source": [
    "d = 12\n",
    "if d%2==0:\n",
    "    print(\"it is divisible by 2\")\n",
    "if d%3==0:\n",
    "    print(\"it is divisible by 3\")\n",
    "if d%5==0:\n",
    "    print(\"it is divisible by 5\")\n",
    "else:\n",
    "    print(\"the number is not divisible by 2,3 or 5\")"
   ]
  },
  {
   "cell_type": "code",
   "execution_count": 18,
   "metadata": {},
   "outputs": [
    {
     "name": "stdout",
     "output_type": "stream",
     "text": [
      "it is divisible by 2\n",
      "it is divisible by 3\n"
     ]
    }
   ],
   "source": [
    "d = 12\n",
    "count=0\n",
    "if d%2==0:\n",
    "    print(\"it is divisible by 2\")\n",
    "    count+=1\n",
    "if d%3==0:\n",
    "    print(\"it is divisible by 3\")\n",
    "    count+=1\n",
    "if d%5==0:\n",
    "    print(\"it is divisible by 5\")\n",
    "    count+=1\n",
    "if count==0:\n",
    "    print(\"the number is not divisible by 2,3 or 5\")"
   ]
  },
  {
   "cell_type": "code",
   "execution_count": 19,
   "metadata": {},
   "outputs": [
    {
     "name": "stdout",
     "output_type": "stream",
     "text": [
      "it is divisible by 3\n",
      "it is divisible by 5\n"
     ]
    }
   ],
   "source": [
    "d = 15\n",
    "count=0\n",
    "if d%2==0:\n",
    "    print(\"it is divisible by 2\")\n",
    "    count+=1\n",
    "if d%3==0:\n",
    "    print(\"it is divisible by 3\")\n",
    "    count+=1\n",
    "if d%5==0:\n",
    "    print(\"it is divisible by 5\")\n",
    "    count+=1\n",
    "if count==0:\n",
    "    print(\"the number is not divisible by 2,3 or 5\")"
   ]
  },
  {
   "cell_type": "code",
   "execution_count": 20,
   "metadata": {},
   "outputs": [
    {
     "name": "stdout",
     "output_type": "stream",
     "text": [
      "the number is not divisible by 2,3 or 5\n"
     ]
    }
   ],
   "source": [
    "d = 7\n",
    "count=0\n",
    "if d%2==0:\n",
    "    print(\"it is divisible by 2\")\n",
    "    count+=1\n",
    "if d%3==0:\n",
    "    print(\"it is divisible by 3\")\n",
    "    count+=1\n",
    "if d%5==0:\n",
    "    print(\"it is divisible by 5\")\n",
    "    count+=1\n",
    "if count==0:\n",
    "    print(\"the number is not divisible by 2,3 or 5\")"
   ]
  },
  {
   "cell_type": "code",
   "execution_count": null,
   "metadata": {},
   "outputs": [],
   "source": []
  }
 ],
 "metadata": {
  "kernelspec": {
   "display_name": "Python 3",
   "language": "python",
   "name": "python3"
  },
  "language_info": {
   "codemirror_mode": {
    "name": "ipython",
    "version": 3
   },
   "file_extension": ".py",
   "mimetype": "text/x-python",
   "name": "python",
   "nbconvert_exporter": "python",
   "pygments_lexer": "ipython3",
   "version": "3.7.3"
  }
 },
 "nbformat": 4,
 "nbformat_minor": 2
}
