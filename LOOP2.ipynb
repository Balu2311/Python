{
 "cells": [
  {
   "cell_type": "code",
   "execution_count": 1,
   "metadata": {},
   "outputs": [
    {
     "name": "stdout",
     "output_type": "stream",
     "text": [
      "meet janu\n",
      "janu works as a softwware engineer\n",
      "Elise is janu's manager\n"
     ]
    }
   ],
   "source": [
    "print(\"meet janu\")\n",
    "print(\"janu works as a softwware engineer\")\n",
    "print(\"Elise is janu's manager\")"
   ]
  },
  {
   "cell_type": "code",
   "execution_count": 2,
   "metadata": {},
   "outputs": [
    {
     "name": "stdout",
     "output_type": "stream",
     "text": [
      "meet janu\n",
      "janu works as a software engineer\n"
     ]
    }
   ],
   "source": [
    "name =\"janu\"\n",
    "print(\"meet\",name)\n",
    "print(\"%s works as a software engineer\"%name)"
   ]
  },
  {
   "cell_type": "code",
   "execution_count": 3,
   "metadata": {},
   "outputs": [
    {
     "name": "stdout",
     "output_type": "stream",
     "text": [
      "meet janu\n",
      "janu works as a software engineer\n",
      "Elise is janu' s manager\n"
     ]
    }
   ],
   "source": [
    "name =\"janu\"\n",
    "print(\"meet\",name)\n",
    "print(\"%s works as a software engineer\"%name)\n",
    "print(\"Elise is %s' s manager\"%name)"
   ]
  },
  {
   "cell_type": "code",
   "execution_count": 6,
   "metadata": {},
   "outputs": [
    {
     "name": "stdout",
     "output_type": "stream",
     "text": [
      "1979956666128\n",
      "1979956666128\n"
     ]
    }
   ],
   "source": [
    "name=\"may\"\n",
    "name2=\"may\"\n",
    "print(id(name))\n",
    "print(id(name2))"
   ]
  },
  {
   "cell_type": "code",
   "execution_count": 7,
   "metadata": {},
   "outputs": [
    {
     "name": "stdout",
     "output_type": "stream",
     "text": [
      "1979962388864\n",
      "1979956666128\n"
     ]
    }
   ],
   "source": [
    "name=\"balu\"\n",
    "name2=\"may\"\n",
    "print(id(name))\n",
    "print(id(name2))"
   ]
  },
  {
   "cell_type": "code",
   "execution_count": 9,
   "metadata": {},
   "outputs": [
    {
     "name": "stdout",
     "output_type": "stream",
     "text": [
      "5 <class 'int'>\n",
      "5.0 <class 'float'>\n",
      "(5+0j) <class 'complex'>\n"
     ]
    }
   ],
   "source": [
    "n=5\n",
    "print(n, type(n))\n",
    "print(float(n), type(float(n)))\n",
    "print(complex(n), type(complex(n)))"
   ]
  },
  {
   "cell_type": "code",
   "execution_count": 13,
   "metadata": {},
   "outputs": [
    {
     "name": "stdout",
     "output_type": "stream",
     "text": [
      "0\n",
      "1\n",
      "2\n",
      "3\n",
      "4\n",
      "5\n",
      "6\n",
      "7\n",
      "8\n",
      "9\n",
      "10\n",
      "11\n",
      "12\n",
      "13\n",
      "14\n",
      "15\n",
      "16\n",
      "17\n",
      "18\n",
      "19\n"
     ]
    }
   ],
   "source": [
    "for i in range(0, 20):\n",
    "    print(i)"
   ]
  },
  {
   "cell_type": "code",
   "execution_count": 14,
   "metadata": {},
   "outputs": [
    {
     "name": "stdout",
     "output_type": "stream",
     "text": [
      "0\n",
      "2\n",
      "4\n",
      "6\n",
      "8\n",
      "10\n",
      "12\n",
      "14\n",
      "16\n",
      "18\n"
     ]
    }
   ],
   "source": [
    "for i in range(0,20,2):\n",
    "    print(i)"
   ]
  },
  {
   "cell_type": "code",
   "execution_count": 16,
   "metadata": {},
   "outputs": [
    {
     "name": "stdout",
     "output_type": "stream",
     "text": [
      "90\n"
     ]
    }
   ],
   "source": [
    "sum=0\n",
    "for i in range(0,20,2):\n",
    "    if i%2==0:\n",
    "        sum=sum+i\n",
    "print(sum)"
   ]
  },
  {
   "cell_type": "code",
   "execution_count": 17,
   "metadata": {},
   "outputs": [
    {
     "name": "stdout",
     "output_type": "stream",
     "text": [
      "Enter a number10\n",
      "1\n",
      "12\n",
      "123\n",
      "1234\n",
      "12345\n",
      "123456\n",
      "1234567\n",
      "12345678\n",
      "123456789\n",
      "12345678910\n"
     ]
    }
   ],
   "source": [
    "n=int(input(\"Enter a number\"))\n",
    "for i in range(1,n+1):\n",
    "    for j in range(1,i+1):\n",
    "        print(j,end=\"\")\n",
    "    print()"
   ]
  },
  {
   "cell_type": "code",
   "execution_count": 3,
   "metadata": {},
   "outputs": [
    {
     "name": "stdout",
     "output_type": "stream",
     "text": [
      "enter number of row2\n",
      "enter number of columns2\n",
      "enter the 0 * 0 element1\n",
      "enter the 0 * 1 element2\n",
      "enter the 1 * 0 element3\n",
      "enter the 1 * 1 element4\n",
      "enter the 0 * 0 element5\n",
      "enter the 0 * 1 element6\n",
      "enter the 1 * 0 element7\n",
      "enter the 1 * 1 element8\n",
      "[['15', '26'], ['37', '48']]\n"
     ]
    }
   ],
   "source": [
    "n=int(input(\"enter number of row\"))\n",
    "c=int(input(\"enter number of columns\"))\n",
    "x=[]\n",
    "val=[]\n",
    "for i in range(0, n):\n",
    "    for j in range(0, c):\n",
    "        val.insert(j, input(\"enter the %d * %d element\" %(i,j)))\n",
    "    x.insert(i,val)\n",
    "    val=[]\n",
    "y=[]\n",
    "for i in range(0, n):\n",
    "    for j in range(0, c):\n",
    "        val.insert(j, input(\"enter the %d * %d element\" %(i, j)))\n",
    "    y.insert(i,val)\n",
    "    val=[]\n",
    "    \n",
    "sum=[]\n",
    "\n",
    "for i in range(0, n):\n",
    "    for j in range(0, c):\n",
    "        val.insert(j, x[i][j]+y[i][j])\n",
    "    sum.insert(i,val)\n",
    "    val=[]\n",
    "print(sum)"
   ]
  },
  {
   "cell_type": "code",
   "execution_count": 4,
   "metadata": {},
   "outputs": [
    {
     "name": "stdout",
     "output_type": "stream",
     "text": [
      "Enter a stringHey there\n",
      "Hey there is nat apolindrome\n"
     ]
    }
   ],
   "source": [
    "stg=input(\"Enter a string\")\n",
    "count=0\n",
    "for i in range(0, len(stg)//2):\n",
    "    if stg[i]!=stg[len(stg)-1-i]:\n",
    "        break\n",
    "    count+=1\n",
    "if count==len(stg)//2 :\n",
    "    print(\"%s is a polindrome\"%stg)\n",
    "else:\n",
    "    print(\"%s is nat apolindrome\"%stg)\n",
    "    "
   ]
  },
  {
   "cell_type": "code",
   "execution_count": 7,
   "metadata": {},
   "outputs": [
    {
     "name": "stdout",
     "output_type": "stream",
     "text": [
      "Enter a stringmadam\n",
      "madam is a polindrome\n"
     ]
    }
   ],
   "source": [
    "stg=input(\"Enter a string\")\n",
    "count=0\n",
    "for i in range(0, len(stg)//2):\n",
    "    if stg[i]!=stg[len(stg)-1-i]:\n",
    "        break\n",
    "    count+=1\n",
    "if count==len(stg)//2 :\n",
    "    print(\"%s is a polindrome\"%stg)\n",
    "else:\n",
    "    print(\"%s is nat apolindrome\"%stg)"
   ]
  },
  {
   "cell_type": "code",
   "execution_count": 8,
   "metadata": {},
   "outputs": [
    {
     "name": "stdout",
     "output_type": "stream",
     "text": [
      "Enter a stringrace car\n",
      "race car is nat apolindrome\n"
     ]
    }
   ],
   "source": [
    "stg=input(\"Enter a string\")\n",
    "count=0\n",
    "for i in range(0, len(stg)//2):\n",
    "    if stg[i]!=stg[len(stg)-1-i]:\n",
    "        break\n",
    "    count+=1\n",
    "if count==len(stg)//2 :\n",
    "    print(\"%s is a polindrome\"%stg)\n",
    "else:\n",
    "    print(\"%s is nat apolindrome\"%stg)\n",
    "    "
   ]
  },
  {
   "cell_type": "code",
   "execution_count": 9,
   "metadata": {},
   "outputs": [
    {
     "name": "stdout",
     "output_type": "stream",
     "text": [
      "Enter a stringracecar\n",
      "racecar is a polindrome\n"
     ]
    }
   ],
   "source": [
    "stg=input(\"Enter a string\")\n",
    "count=0\n",
    "for i in range(0, len(stg)//2):\n",
    "    if stg[i]!=stg[len(stg)-1-i]:\n",
    "        break\n",
    "    count+=1\n",
    "if count==len(stg)//2 :\n",
    "    print(\"%s is a polindrome\"%stg)\n",
    "else:\n",
    "    print(\"%s is nat apolindrome\"%stg)\n",
    "    "
   ]
  },
  {
   "cell_type": "code",
   "execution_count": 10,
   "metadata": {},
   "outputs": [
    {
     "name": "stdout",
     "output_type": "stream",
     "text": [
      "simplileran\n",
      "simplileran\n",
      "simplileran\n",
      "simplileran\n",
      "simplileran\n",
      "simplileran\n",
      "simplileran\n",
      "simplileran\n",
      "simplileran\n",
      "simplileran\n"
     ]
    }
   ],
   "source": [
    "i=1\n",
    "while i<=10:\n",
    "    print(\"simplileran\")\n",
    "    i+=1"
   ]
  },
  {
   "cell_type": "code",
   "execution_count": 11,
   "metadata": {},
   "outputs": [
    {
     "name": "stdout",
     "output_type": "stream",
     "text": [
      "simplileran\n",
      "simplileran\n",
      "simplileran\n",
      "simplileran\n",
      "simplileran\n",
      "simplileran\n",
      "simplileran\n",
      "simplileran\n",
      "simplileran\n"
     ]
    }
   ],
   "source": [
    "i=10\n",
    "while i>1:\n",
    "    print(\"simplileran\")\n",
    "    i-=1"
   ]
  },
  {
   "cell_type": "code",
   "execution_count": 12,
   "metadata": {},
   "outputs": [
    {
     "name": "stdout",
     "output_type": "stream",
     "text": [
      "simplileran\n",
      "simplileran\n",
      "simplileran\n",
      "simplileran\n",
      "simplileran\n",
      "simplileran\n",
      "simplileran\n",
      "simplileran\n",
      "simplileran\n",
      "simplileran\n",
      "simplileran\n",
      "55\n"
     ]
    }
   ],
   "source": [
    "i=0\n",
    "sum=0\n",
    "while i<=10:\n",
    "    print(\"simplileran\")\n",
    "    sum=sum+i\n",
    "    i+=1\n",
    "print(sum)"
   ]
  },
  {
   "cell_type": "code",
   "execution_count": 13,
   "metadata": {},
   "outputs": [
    {
     "name": "stdout",
     "output_type": "stream",
     "text": [
      "55\n"
     ]
    }
   ],
   "source": [
    "i=0\n",
    "sum=0\n",
    "while i<=10:\n",
    "    sum=sum+i\n",
    "    i+=1\n",
    "print(sum)"
   ]
  },
  {
   "cell_type": "code",
   "execution_count": 14,
   "metadata": {},
   "outputs": [
    {
     "name": "stdout",
     "output_type": "stream",
     "text": [
      "30\n"
     ]
    }
   ],
   "source": [
    "i=0\n",
    "sum=0\n",
    "while i<=10:\n",
    "    if i%2==0:\n",
    "        sum=sum+i\n",
    "    i+=1\n",
    "print(sum)"
   ]
  },
  {
   "cell_type": "code",
   "execution_count": 15,
   "metadata": {},
   "outputs": [
    {
     "name": "stdout",
     "output_type": "stream",
     "text": [
      "Enter a number4652\n",
      "2564\n"
     ]
    }
   ],
   "source": [
    "n=int(input(\"Enter a number\"))\n",
    "nr=0\n",
    "while n%10!=0:\n",
    "    c=n%10\n",
    "    nr=nr*10+c\n",
    "    n=n//10\n",
    "print(nr)\n",
    "#n=5678\n",
    "nr=8765"
   ]
  },
  {
   "cell_type": "code",
   "execution_count": 20,
   "metadata": {},
   "outputs": [
    {
     "name": "stdout",
     "output_type": "stream",
     "text": [
      "4\n"
     ]
    }
   ],
   "source": [
    "x=[1,2,3,\"simplilearn\"]\n",
    "length=0\n",
    "i=0\n",
    "try:\n",
    "    while x[i]:\n",
    "        length+=1\n",
    "        i+=1\n",
    "except IndexError:\n",
    "    print(length)"
   ]
  },
  {
   "cell_type": "code",
   "execution_count": 24,
   "metadata": {},
   "outputs": [
    {
     "name": "stdout",
     "output_type": "stream",
     "text": [
      "Enter a number5\n",
      "1\n",
      "22\n",
      "333\n",
      "4444\n",
      "55555\n"
     ]
    }
   ],
   "source": [
    "#1\n",
    "#22\n",
    "#333\n",
    "n=int(input(\"Enter a number\"))\n",
    "i=1\n",
    "while i<=n:\n",
    "    j=1\n",
    "    while j<=i:\n",
    "        print(i,end='')\n",
    "        j+=1\n",
    "    i+=1\n",
    "    print()"
   ]
  },
  {
   "cell_type": "code",
   "execution_count": 25,
   "metadata": {},
   "outputs": [
    {
     "name": "stdout",
     "output_type": "stream",
     "text": [
      "Enter a number7\n",
      "1\n",
      "22\n",
      "333\n",
      "4444\n",
      "55555\n",
      "666666\n",
      "7777777\n"
     ]
    }
   ],
   "source": [
    "n=int(input(\"Enter a number\"))\n",
    "i=1\n",
    "while i<=n:\n",
    "    j=1\n",
    "    while j<=i:\n",
    "        print(i,end='')\n",
    "        j+=1\n",
    "    i+=1\n",
    "    print()"
   ]
  },
  {
   "cell_type": "code",
   "execution_count": 26,
   "metadata": {},
   "outputs": [
    {
     "name": "stdout",
     "output_type": "stream",
     "text": [
      "Enter a number5\n",
      "1\n",
      "2\n",
      "3\n",
      "4\n",
      "5\n"
     ]
    }
   ],
   "source": [
    "n=int(input(\"Enter a number\"))\n",
    "i=1\n",
    "while i<=n:\n",
    "    j=1\n",
    "    while j<=i:\n",
    "        print(i,end='')\n",
    "        j+=i\n",
    "    i+=1\n",
    "    print()"
   ]
  },
  {
   "cell_type": "code",
   "execution_count": null,
   "metadata": {},
   "outputs": [
    {
     "name": "stdout",
     "output_type": "stream",
     "text": [
      "Enter a 4 digit number5673\n",
      "%d digits were guessed right\n",
      "Enter a 4 digit number4562\n",
      "%d digits were guessed right\n",
      "Enter a 4 digit number9876\n",
      "%d digits were guessed right\n",
      "Enter a 4 digit number1234\n",
      "%d digits were guessed right\n",
      "Enter a 4 digit number2345\n",
      "%d digits were guessed right\n",
      "Enter a 4 digit number5432\n",
      "%d digits were guessed right\n",
      "Enter a 4 digit number3468\n",
      "%d digits were guessed right\n"
     ]
    }
   ],
   "source": [
    "import random\n",
    "nump=random.randint(1000,9999)\n",
    "n= int(input(\"Enter a 4 digit number\"))\n",
    "while n!=10:\n",
    "    num=nump\n",
    "    cor = 0\n",
    "    while num%10:\n",
    "        numc=num%10\n",
    "        nc=n%10\n",
    "        num=num//10\n",
    "        n=n//10\n",
    "        if num==nc:\n",
    "            cor=cor+1\n",
    "    if cor==4:\n",
    "        print(\"congratas! you guessed it right\")\n",
    "        break\n",
    "    else:\n",
    "        print(\"%d digits were guessed right\")\n",
    "        n= int(input(\"Enter a 4 digit number\"))\n",
    "else :\n",
    "    print(\"you quet the game\")"
   ]
  },
  {
   "cell_type": "code",
   "execution_count": null,
   "metadata": {},
   "outputs": [
    {
     "name": "stdout",
     "output_type": "stream",
     "text": [
      "Enter a 4 digit number5463\n",
      "0 digits were guessed right\n",
      "Enter a 4 digit number7654\n",
      "0 digits were guessed right\n",
      "Enter a 4 digit number0987\n",
      "1 digits were guessed right\n",
      "Enter a 4 digit number9876\n",
      "0 digits were guessed right\n",
      "Enter a 4 digit number3468\n",
      "0 digits were guessed right\n",
      "Enter a 4 digit number1234\n",
      "0 digits were guessed right\n"
     ]
    }
   ],
   "source": [
    "import random\n",
    "nump=random.randint(1000,9999)\n",
    "n= int(input(\"Enter a 4 digit number\"))\n",
    "while n!=10:\n",
    "    num=nump\n",
    "    cor = 0\n",
    "    while num%10:\n",
    "        numc=num%10\n",
    "        nc=n%10\n",
    "        num=num//10\n",
    "        n=n//10\n",
    "        if num==nc:\n",
    "            cor=cor+1\n",
    "    if cor==4:\n",
    "        print(\"congratas! you guessed it right\")\n",
    "        break\n",
    "    else:\n",
    "        print(\"%d digits were guessed right\"%cor)\n",
    "        n= int(input(\"Enter a 4 digit number\"))\n",
    "else :\n",
    "    print(\"you quet the game\")"
   ]
  },
  {
   "cell_type": "code",
   "execution_count": null,
   "metadata": {},
   "outputs": [],
   "source": [
    "import random\n",
    "nump=random.randint(10,99)\n",
    "n= int(input(\"Enter a 4 digit number\"))\n",
    "while n!=10:\n",
    "    num=nump\n",
    "    cor = 0\n",
    "    while num%10:\n",
    "        numc=num%10\n",
    "        nc=n%10\n",
    "        num=num//10\n",
    "        n=n//10\n",
    "        if num==nc:\n",
    "            cor=cor+1\n",
    "    if cor==4:\n",
    "        print(\"congratas! you guessed it right\"%cor)\n",
    "        break\n",
    "    else:\n",
    "        print(\"%d digits were guessed right\")\n",
    "        n= int(input(\"Enter a 4 digit number\"))\n",
    "else :\n",
    "    print(\"you quet the game\")"
   ]
  },
  {
   "cell_type": "code",
   "execution_count": null,
   "metadata": {},
   "outputs": [],
   "source": []
  }
 ],
 "metadata": {
  "kernelspec": {
   "display_name": "Python 3",
   "language": "python",
   "name": "python3"
  },
  "language_info": {
   "codemirror_mode": {
    "name": "ipython",
    "version": 3
   },
   "file_extension": ".py",
   "mimetype": "text/x-python",
   "name": "python",
   "nbconvert_exporter": "python",
   "pygments_lexer": "ipython3",
   "version": "3.7.3"
  }
 },
 "nbformat": 4,
 "nbformat_minor": 2
}
