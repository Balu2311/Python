{
 "cells": [
  {
   "cell_type": "code",
   "execution_count": 1,
   "metadata": {},
   "outputs": [
    {
     "name": "stdout",
     "output_type": "stream",
     "text": [
      "155 mph\n",
      "155 mph\n",
      "155 mph\n",
      "155 mph\n"
     ]
    }
   ],
   "source": [
    "class car:\n",
    "    \n",
    "    def getspeed(self):\n",
    "        print(\"155 mph\")\n",
    "        \n",
    "BMW = car()\n",
    "FORD = car()\n",
    "\n",
    "car.getspeed(BMW)\n",
    "car.getspeed(FORD)\n",
    "\n",
    "BMW.getspeed()\n",
    "FORD.getspeed()"
   ]
  },
  {
   "cell_type": "code",
   "execution_count": 3,
   "metadata": {},
   "outputs": [
    {
     "name": "stdout",
     "output_type": "stream",
     "text": [
      "maximum speed is: 155\n",
      "maximum speed is: 140\n",
      "maximum speed is: 155\n",
      "maximum speed is: 140\n"
     ]
    }
   ],
   "source": [
    "class car:\n",
    "    def __init__(self,year,speed):\n",
    "        self.year= year\n",
    "        self.speed= speed\n",
    "    \n",
    "    def getspeed(self):\n",
    "        print(\"maximum speed is:\",self.speed)\n",
    "        \n",
    "BMW = car(2018,155)\n",
    "FORD = car(2016,140)\n",
    "\n",
    "car.getspeed(BMW)\n",
    "car.getspeed(FORD)\n",
    "\n",
    "\n",
    "BMW.getspeed()\n",
    "FORD.getspeed()"
   ]
  },
  {
   "cell_type": "code",
   "execution_count": 4,
   "metadata": {},
   "outputs": [
    {
     "name": "stdout",
     "output_type": "stream",
     "text": [
      "maximum speed is: 155\n",
      "maximum speed is: 140\n"
     ]
    }
   ],
   "source": [
    "class car:\n",
    "    def __init__(self,year,speed):\n",
    "        self.year= year\n",
    "        self.speed= speed\n",
    "    \n",
    "    def getspeed(self):\n",
    "        print(\"maximum speed is:\",self.speed)\n",
    "        \n",
    "BMW = car(2018,155)\n",
    "FORD = car(2016,140)\n",
    "\n",
    "car.getspeed(BMW)\n",
    "car.getspeed(FORD)\n"
   ]
  },
  {
   "cell_type": "code",
   "execution_count": 6,
   "metadata": {},
   "outputs": [
    {
     "name": "stdout",
     "output_type": "stream",
     "text": [
      "maximum speed is: 155\n",
      "maximum speed is: 143\n"
     ]
    }
   ],
   "source": [
    "class car:\n",
    "    def __init__(self,year,speed):\n",
    "        self.year= year\n",
    "        self.speed= speed\n",
    "    \n",
    "    def getspeed(self):\n",
    "        print(\"maximum speed is:\",self.speed)\n",
    "    def setspeed(self, speed):\n",
    "        self.speed = speed\n",
    "        \n",
    "BMW = car(2018, 155)\n",
    "\n",
    "\n",
    "BMW.getspeed()\n",
    "BMW.setspeed(143)\n",
    "BMW.getspeed()\n"
   ]
  },
  {
   "cell_type": "code",
   "execution_count": 7,
   "metadata": {},
   "outputs": [
    {
     "name": "stdout",
     "output_type": "stream",
     "text": [
      "maximum speed is: 155\n",
      "maximum speed is: 143\n",
      "maximum speed is: 140\n"
     ]
    }
   ],
   "source": [
    "class car:\n",
    "    def __init__(self,year,speed):\n",
    "        self.year= year\n",
    "        self.speed= speed\n",
    "    \n",
    "    def getspeed(self):\n",
    "        print(\"maximum speed is:\",self.speed)\n",
    "    def setspeed(self, speed):\n",
    "        self.speed = speed\n",
    "        \n",
    "BMW = car(2018, 155)\n",
    "FORD = car(2016,140)\n",
    "\n",
    "\n",
    "BMW.getspeed()\n",
    "BMW.setspeed(143)\n",
    "BMW.getspeed()\n",
    "FORD.getspeed()\n"
   ]
  },
  {
   "cell_type": "markdown",
   "metadata": {},
   "source": [
    "# inheritance"
   ]
  },
  {
   "cell_type": "code",
   "execution_count": 12,
   "metadata": {},
   "outputs": [
    {
     "name": "stdout",
     "output_type": "stream",
     "text": [
      "maximum speed is: 155\n",
      "maximum speed is: 150\n"
     ]
    }
   ],
   "source": [
    "class car:\n",
    "    def __init__(self,year,speed):\n",
    "        self.year= year\n",
    "        self.speed= speed\n",
    "    \n",
    "    def getspeed(self):\n",
    "        print(\"maximum speed is:\",self.speed)\n",
    "    def setspeed(self, speed):\n",
    "        self.speed = speed\n",
    "        \n",
    "BMW = car(2018, 155)\n",
    "FORD = car(2016,140)\n",
    "\n",
    "class sedan(car):\n",
    "    def accelerate(self):\n",
    "        print('trunk has been opend')\n",
    "class suv(car):\n",
    "    def accelerate(self):\n",
    "        print('127')\n",
    "honda = sedan(2018, 150)\n",
    "BMW.getspeed()\n",
    "honda.getspeed()"
   ]
  },
  {
   "cell_type": "code",
   "execution_count": 20,
   "metadata": {},
   "outputs": [
    {
     "name": "stdout",
     "output_type": "stream",
     "text": [
      "maximum speed is: 155\n",
      "maximum speed is: 150\n",
      "trunk has been opend\n",
      "137\n"
     ]
    }
   ],
   "source": [
    "class car:\n",
    "    def __init__(self,year,speed):\n",
    "        self.year= year\n",
    "        self.speed= speed\n",
    "    \n",
    "    def getspeed(self):\n",
    "        print(\"maximum speed is:\",self.speed)\n",
    "    def setspeed(self, speed):\n",
    "        self.speed = speed\n",
    "        \n",
    "BMW = car(2018, 155)\n",
    "FORD = car(2016,140)\n",
    "\n",
    "class sedan(car):\n",
    "    def accelerate(self):\n",
    "        print('137')\n",
    "    def opentrunk(self):\n",
    "        print('trunk has been opend')\n",
    "        \n",
    "class suv(car):\n",
    "    def accelerate(self):\n",
    "        print('127')\n",
    "honda = sedan(2018, 150)\n",
    "BMW.getspeed()\n",
    "honda.getspeed()\n",
    "honda.opentrunk()\n",
    "honda.accelerate()"
   ]
  },
  {
   "cell_type": "markdown",
   "metadata": {},
   "source": [
    "# Encapsulation"
   ]
  },
  {
   "cell_type": "code",
   "execution_count": 22,
   "metadata": {},
   "outputs": [
    {
     "name": "stdout",
     "output_type": "stream",
     "text": [
      "maximum speed is: 155\n",
      "maximum speed is: 143\n",
      "143\n"
     ]
    }
   ],
   "source": [
    "class car:\n",
    "    def __init__(self,year,speed):\n",
    "        self.year= year\n",
    "        self.speed= speed\n",
    "    \n",
    "    def getspeed(self):\n",
    "        print(\"maximum speed is:\",self.speed)\n",
    "        \n",
    "    def setspeed(self, speed):\n",
    "        self.speed = speed\n",
    "        \n",
    "BMW = car(2018, 155)\n",
    "BMW.getspeed()\n",
    "\n",
    "\n",
    "BMW.setspeed(143)\n",
    "BMW.getspeed()\n",
    "print(BMW.speed)\n"
   ]
  },
  {
   "cell_type": "markdown",
   "metadata": {},
   "source": [
    "\n",
    "# Polymorphism"
   ]
  },
  {
   "cell_type": "code",
   "execution_count": 24,
   "metadata": {},
   "outputs": [
    {
     "name": "stdout",
     "output_type": "stream",
     "text": [
      "balu : 150\n",
      "ramu : 180\n"
     ]
    }
   ],
   "source": [
    "class car:\n",
    "    def __init__(self,name):\n",
    "        self.name = name\n",
    "    \n",
    "class sedan(car):\n",
    "    def accelerate(self):\n",
    "        print(\"150\")\n",
    "        \n",
    "class suv(car):\n",
    "    def accelerate(self):\n",
    "        print(\"180\")\n",
    "   \n",
    "objl = [sedan(\"balu\"), suv(\"ramu\")]\n",
    "\n",
    "for obj in objl:\n",
    "    print(obj.name+\" : \", end =\"\")\n",
    "    obj.accelerate()"
   ]
  },
  {
   "cell_type": "code",
   "execution_count": null,
   "metadata": {},
   "outputs": [],
   "source": []
  }
 ],
 "metadata": {
  "kernelspec": {
   "display_name": "Python 3",
   "language": "python",
   "name": "python3"
  },
  "language_info": {
   "codemirror_mode": {
    "name": "ipython",
    "version": 3
   },
   "file_extension": ".py",
   "mimetype": "text/x-python",
   "name": "python",
   "nbconvert_exporter": "python",
   "pygments_lexer": "ipython3",
   "version": "3.7.3"
  }
 },
 "nbformat": 4,
 "nbformat_minor": 2
}
