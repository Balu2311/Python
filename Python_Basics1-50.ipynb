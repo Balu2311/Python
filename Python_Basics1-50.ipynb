{
 "cells": [
  {
   "cell_type": "code",
   "execution_count": 1,
   "metadata": {
    "scrolled": true
   },
   "outputs": [
    {
     "name": "stdout",
     "output_type": "stream",
     "text": [
      "Twinkle, twinkle, little star, \n",
      "\tHow I wonder what you are! \n",
      "\t\tUp above the world so high, \n",
      "\t\tLike a diamond in the sky. \n",
      "Twinkle, twinkle, little star, \n",
      "\tHow I wonder what you are!\n"
     ]
    }
   ],
   "source": [
    "#1Write a Python program to print the following string in a specific format (see the output).?\n",
    "print(\"Twinkle, twinkle, little star, \\n\\tHow I wonder what you are! \\n\\t\\tUp above the world so high, \\n\\t\\tLike a diamond in the sky. \\nTwinkle, twinkle, little star, \\n\\tHow I wonder what you are!\")\n"
   ]
  },
  {
   "cell_type": "code",
   "execution_count": 2,
   "metadata": {
    "scrolled": true
   },
   "outputs": [
    {
     "name": "stdout",
     "output_type": "stream",
     "text": [
      "vallem, Brahmareddy, \n",
      "\tDorasanamma, \n",
      "Kumari\n",
      "Balanagireddy\n"
     ]
    }
   ],
   "source": [
    "print(\"vallem, Brahmareddy, \\n\\tDorasanamma, \\nKumari\\nBalanagireddy\")"
   ]
  },
  {
   "cell_type": "code",
   "execution_count": 3,
   "metadata": {},
   "outputs": [
    {
     "name": "stdout",
     "output_type": "stream",
     "text": [
      "System Version\n",
      "3.7.3 (v3.7.3:ef4ec6ed12, Mar 25 2019, 22:22:05) [MSC v.1916 64 bit (AMD64)]\n",
      "system infarmation\n",
      "sys.version_info(major=3, minor=7, micro=3, releaselevel='final', serial=0)\n"
     ]
    }
   ],
   "source": [
    "#Write a Python program to get the Python version you are using.\n",
    "\n",
    "'''A string containing the version number of the Python interpreter plus additional \n",
    "information on the build number and compiler used. This string is displayed when the interactive interpreter is started.'''\n",
    "\n",
    "import sys \n",
    "print(\"System Version\")\n",
    "print(sys.version)\n",
    "print(\"system infarmation\")\n",
    "print(sys.version_info)"
   ]
  },
  {
   "cell_type": "code",
   "execution_count": 4,
   "metadata": {},
   "outputs": [
    {
     "name": "stdout",
     "output_type": "stream",
     "text": [
      "current date and time: \n",
      "20-02-23 04:36:39\n"
     ]
    }
   ],
   "source": [
    "#Write a Python program to display the current date and time.\n",
    "import datetime\n",
    "now = datetime.datetime.now()\n",
    "print(\"current date and time: \")\n",
    "print(now.strftime(\"%y-%m-%d %H:%M:%S\"))"
   ]
  },
  {
   "cell_type": "code",
   "execution_count": 5,
   "metadata": {},
   "outputs": [
    {
     "name": "stdout",
     "output_type": "stream",
     "text": [
      "enter the radius number: 6\n",
      "circle of area: \n",
      "6.0is: 113.09733552923255\n"
     ]
    }
   ],
   "source": [
    "#Write a Python program which accepts the radius of a circle from the user and compute the area.\n",
    "from math import pi\n",
    "r = float(input(\"enter the radius number: \")) \n",
    "print(\"circle of area: \")\n",
    "print(str(r) + \"is: \" + str(pi* r**2))"
   ]
  },
  {
   "cell_type": "code",
   "execution_count": 6,
   "metadata": {},
   "outputs": [
    {
     "name": "stdout",
     "output_type": "stream",
     "text": [
      "enter the first name: Vallem\n",
      "enter the last name: Reddy\n",
      "Hello Reddy Vallem\n"
     ]
    }
   ],
   "source": [
    "#Write a Python program which accepts the user's first and last name and print them in reverse order with a space between them.\n",
    "fname = input(\"enter the first name: \")\n",
    "lname = input(\"enter the last name: \")\n",
    "print(\"Hello \" + lname + \" \" + fname)"
   ]
  },
  {
   "cell_type": "code",
   "execution_count": 7,
   "metadata": {},
   "outputs": [
    {
     "name": "stdout",
     "output_type": "stream",
     "text": [
      "enter the comma saparetad numbers: 345678\n",
      "list:  ['345678']\n",
      "tuple:  ('345678',)\n"
     ]
    }
   ],
   "source": [
    "'''Write a Python program which accepts a sequence of comma-separated numbers from user \n",
    "and generate a list and a tuple with those numbers.'''\n",
    "values = input(\"enter the comma saparetad numbers: \")\n",
    "list = values.split(\" , \")\n",
    "tuple = tuple(list)\n",
    "print(\"list: \",list)\n",
    "print(\"tuple: \",tuple)"
   ]
  },
  {
   "cell_type": "code",
   "execution_count": 8,
   "metadata": {},
   "outputs": [
    {
     "name": "stdout",
     "output_type": "stream",
     "text": [
      "enter the comma saparetad numbers: 3,4,5,6\n",
      "List:  ['3', '4', '5', '6']\n",
      "Tuple:  ('345678',)\n"
     ]
    }
   ],
   "source": [
    "values = input(\"enter the comma saparetad numbers: \")\n",
    "list = values.split(\",\")\n",
    "#tuple = tuple(list())\n",
    "print(\"List: \",list)\n",
    "print(\"Tuple: \",tuple)"
   ]
  },
  {
   "cell_type": "code",
   "execution_count": 9,
   "metadata": {},
   "outputs": [
    {
     "name": "stdout",
     "output_type": "stream",
     "text": [
      "enter the file name: BNREDDY.Python\n",
      "The extension of the file is : 'Python'\n"
     ]
    }
   ],
   "source": [
    "#Write a Python program to accept a filename from the user and print the extension of that.\n",
    "\n",
    "filename = input(\"enter the file name: \")\n",
    "f_extnc = filename.split(\".\")\n",
    "print(\"The extension of the file is : \" + repr(f_extnc[-1]))"
   ]
  },
  {
   "cell_type": "code",
   "execution_count": 10,
   "metadata": {},
   "outputs": [
    {
     "name": "stdout",
     "output_type": "stream",
     "text": [
      "Red Black \n"
     ]
    }
   ],
   "source": [
    "#Write a Python program to display the first and last colors from the following list.\n",
    "\n",
    "color = [\"Red\",\"Green\",\"White\" ,\"Black\"]\n",
    "print(\"%s %s \" %(color[0], color[-1]))"
   ]
  },
  {
   "cell_type": "code",
   "execution_count": 11,
   "metadata": {},
   "outputs": [
    {
     "name": "stdout",
     "output_type": "stream",
     "text": [
      "The examination will start from: 23/11/1994\n"
     ]
    }
   ],
   "source": [
    "'''Write a Python program to display the examination schedule. (extract the date from exam_st_date).\n",
    "\n",
    "exam_st_date = (11, 12, 2014)\n",
    "Sample Output: The examination will start from : 11 / 12 / 2014'''\n",
    "exam_strt_from = (23, 11,1994)\n",
    "print(\"The examination will start from: %i/%i/%i\"%exam_strt_from)"
   ]
  },
  {
   "cell_type": "code",
   "execution_count": 12,
   "metadata": {},
   "outputs": [
    {
     "name": "stdout",
     "output_type": "stream",
     "text": [
      " enter the number: 7\n",
      "8638\n"
     ]
    }
   ],
   "source": [
    "#Write a Python program that accepts an integer (n) and computes the value of n+nn+nnn.\n",
    "\n",
    "#Sample value of n is 5\n",
    "a = input(\" enter the number: \")\n",
    "n1 = int(\"%s\" %a)\n",
    "n2 = int(\"%s%s\" % (a,a))\n",
    "n3 = int(\"%s%s%s\" % (a,a,a))\n",
    "n4 = int(\"%s%s%s%s\" % (a,a,a,a))\n",
    "print(n1+n2+n3+n4)"
   ]
  },
  {
   "cell_type": "code",
   "execution_count": 13,
   "metadata": {},
   "outputs": [
    {
     "name": "stdout",
     "output_type": "stream",
     "text": [
      "Return the absolute value of the argument.\n"
     ]
    }
   ],
   "source": [
    "#Write a Python program to print the documents (syntax, description etc.) of Python built-in function(s).\n",
    "\n",
    "#Sample function: abs()\n",
    "print(abs.__doc__)"
   ]
  },
  {
   "cell_type": "code",
   "execution_count": 14,
   "metadata": {},
   "outputs": [
    {
     "name": "stdout",
     "output_type": "stream",
     "text": [
      "Enter the year: 1994\n",
      "Enter the month: 11\n",
      "   November 1994\n",
      "Mo Tu We Th Fr Sa Su\n",
      "    1  2  3  4  5  6\n",
      " 7  8  9 10 11 12 13\n",
      "14 15 16 17 18 19 20\n",
      "21 22 23 24 25 26 27\n",
      "28 29 30\n",
      "\n"
     ]
    }
   ],
   "source": [
    "#Write a Python program to print the calendar of a given month and year.\n",
    "import calendar\n",
    "y = int(input(\"Enter the year: \"))\n",
    "m = int(input(\"Enter the month: \"))\n",
    "print(calendar.month(y, m))"
   ]
  },
  {
   "cell_type": "code",
   "execution_count": 15,
   "metadata": {},
   "outputs": [
    {
     "name": "stdout",
     "output_type": "stream",
     "text": [
      "a string that you \"don't\" have to escape\n",
      "This\n",
      "is a ....... multi-line\n",
      "heredoc string --------> example\n"
     ]
    }
   ],
   "source": [
    "#Write a Python program to print the following 'here document'.\n",
    "print('''a string that you \"don't\" have to escape\n",
    "This\n",
    "is a ....... multi-line\n",
    "heredoc string --------> example''')\n"
   ]
  },
  {
   "cell_type": "code",
   "execution_count": 16,
   "metadata": {},
   "outputs": [
    {
     "name": "stdout",
     "output_type": "stream",
     "text": [
      "9221\n"
     ]
    }
   ],
   "source": [
    "#Write a Python program to calculate number of days between two dates.\n",
    "from datetime import date\n",
    "f_date = date(1994,11,23)\n",
    "l_date = date(2020,2,21)\n",
    "delta = l_date - f_date\n",
    "print(delta.days)"
   ]
  },
  {
   "cell_type": "code",
   "execution_count": 17,
   "metadata": {},
   "outputs": [
    {
     "name": "stdout",
     "output_type": "stream",
     "text": [
      "Valume of sphere: 904.752\n"
     ]
    }
   ],
   "source": [
    "#Write a Python program to get the the volume of a sphere with radius 6.\n",
    "pi = 3.1415\n",
    "r = 6\n",
    "v_s = 4.0/3.0 *pi*r**3\n",
    "print(\"Valume of sphere:\",v_s)"
   ]
  },
  {
   "cell_type": "code",
   "execution_count": 18,
   "metadata": {},
   "outputs": [
    {
     "name": "stdout",
     "output_type": "stream",
     "text": [
      "Valume of sphere: 18.849\n"
     ]
    }
   ],
   "source": [
    "pi = 3.1415\n",
    "d = 12\n",
    "v_s = pi*d*3/6\n",
    "print(\"Valume of sphere:\",v_s)"
   ]
  },
  {
   "cell_type": "code",
   "execution_count": 19,
   "metadata": {},
   "outputs": [
    {
     "name": "stdout",
     "output_type": "stream",
     "text": [
      "10\n",
      "3\n"
     ]
    }
   ],
   "source": [
    "'''Write a Python program to get the difference between a given number and 17, \n",
    "if the number is greater than 17 return double the absolute difference.'''\n",
    "def difference(n):\n",
    "    if n<=17:\n",
    "        return 17-n\n",
    "    else:\n",
    "        return(n-17)*2\n",
    "    \n",
    "print(difference(22))\n",
    "print(difference(14))"
   ]
  },
  {
   "cell_type": "code",
   "execution_count": 20,
   "metadata": {},
   "outputs": [
    {
     "name": "stdout",
     "output_type": "stream",
     "text": [
      "True\n",
      "True\n",
      "False\n",
      "True\n",
      "False\n"
     ]
    }
   ],
   "source": [
    "#Write a Python program to test whether a number is within 100 of 1000 or 2000.\n",
    "def near_thousand(n):\n",
    "    return (abs(1000-n)<=100) or (abs(2000-n)<=100)\n",
    "print(near_thousand(1000))\n",
    "print(near_thousand(900))\n",
    "print(near_thousand(800))\n",
    "print(near_thousand(2000))\n",
    "print(near_thousand(2200))"
   ]
  },
  {
   "cell_type": "code",
   "execution_count": 21,
   "metadata": {},
   "outputs": [
    {
     "name": "stdout",
     "output_type": "stream",
     "text": [
      "6\n",
      "27\n"
     ]
    }
   ],
   "source": [
    "#Write a Python program to calculate the sum of three given numbers, if the values are equal then return thrice of their sum.\n",
    "def sum_thrice(x, y, z):\n",
    "    sum = x+y+z\n",
    "    if x==y==z:\n",
    "        sum = sum*3\n",
    "    return sum\n",
    "print(sum_thrice(1,2,3))\n",
    "print(sum_thrice(3,3,3))"
   ]
  },
  {
   "cell_type": "code",
   "execution_count": 22,
   "metadata": {},
   "outputs": [
    {
     "name": "stdout",
     "output_type": "stream",
     "text": [
      "12\n",
      "45\n"
     ]
    }
   ],
   "source": [
    "def sum_thrice(x, y, z):\n",
    "    sum = x+y+z\n",
    "    if x==y==z:\n",
    "        sum = sum*3\n",
    "    return sum\n",
    "print(sum_thrice(3,4,5))\n",
    "print(sum_thrice(5,5,5))"
   ]
  },
  {
   "cell_type": "code",
   "execution_count": 23,
   "metadata": {},
   "outputs": [
    {
     "name": "stdout",
     "output_type": "stream",
     "text": [
      "IS Balu\n",
      "IS Balu\n",
      "ISis balu\n"
     ]
    }
   ],
   "source": [
    "'''Write a Python program to get a new string from a given string where \"Is\" has been added to the front. \n",
    "If the given string already begins with \"Is\" then return the string unchanged.'''\n",
    "def new_string(str):\n",
    "    if len(str)>=2 and str[:2] == \"IS\":\n",
    "        return str\n",
    "    return \"IS\" + str\n",
    "print(new_string(' Balu'))\n",
    "print(new_string('IS Balu'))\n",
    "#small leter\n",
    "print(new_string('is balu'))"
   ]
  },
  {
   "cell_type": "code",
   "execution_count": 24,
   "metadata": {},
   "outputs": [
    {
     "name": "stdout",
     "output_type": "stream",
     "text": [
      " BaluBalu\n",
      " .Reddy.Reddy.Reddy\n"
     ]
    }
   ],
   "source": [
    "#Write a Python program to get a string which is n (non-negative integer) copies of a given string\n",
    "def large_string(str, n):\n",
    "    result = \" \"\n",
    "    for i in range(n):\n",
    "        result = result+str\n",
    "    return result\n",
    "print(large_string(\"Balu\", 2))\n",
    "print(large_string(\".Reddy\", 3))"
   ]
  },
  {
   "cell_type": "code",
   "execution_count": 25,
   "metadata": {},
   "outputs": [
    {
     "name": "stdout",
     "output_type": "stream",
     "text": [
      " balu  balu  balu \n"
     ]
    }
   ],
   "source": [
    "import numpy as np\n",
    "print(np.char.multiply(\" balu \", 3))"
   ]
  },
  {
   "cell_type": "code",
   "execution_count": 26,
   "metadata": {},
   "outputs": [
    {
     "name": "stdout",
     "output_type": "stream",
     "text": [
      "balubalubalu\n"
     ]
    }
   ],
   "source": [
    "import numpy as np\n",
    "print(np.char.multiply(\"balu\", 3))"
   ]
  },
  {
   "cell_type": "code",
   "execution_count": 27,
   "metadata": {},
   "outputs": [
    {
     "name": "stdout",
     "output_type": "stream",
     "text": [
      "enter the number: 9\n",
      "this is odd number\n"
     ]
    }
   ],
   "source": [
    "'''Write a Python program to find whether a given number (accept from the user) \n",
    "is even or odd, print out an appropriate message to the user.'''\n",
    "num = int(input(\"enter the number: \"))\n",
    "n = num % 2 \n",
    "if n > 0:\n",
    "    print('this is odd number')\n",
    "else:\n",
    "    print(\"this is even number\")\n",
    "    "
   ]
  },
  {
   "cell_type": "code",
   "execution_count": 28,
   "metadata": {},
   "outputs": [
    {
     "name": "stdout",
     "output_type": "stream",
     "text": [
      "3\n",
      "5\n"
     ]
    }
   ],
   "source": [
    "#Write a Python program to count the number 4 in a given list.\n",
    "def list_count_4(nums):\n",
    "    count = 0\n",
    "    for num in nums:\n",
    "        if num == 4:\n",
    "            count = count+1\n",
    "    return count\n",
    "print(list_count_4([1,2,3,4,5,6,4,7,4]))\n",
    "print(list_count_4([1,2,4,33,3,4,5,6,7,8,4,7,4,8,4]))"
   ]
  },
  {
   "cell_type": "code",
   "execution_count": 29,
   "metadata": {},
   "outputs": [
    {
     "name": "stdout",
     "output_type": "stream",
     "text": [
      " abab\n",
      " ppp\n"
     ]
    }
   ],
   "source": [
    "'''Write a Python program to get the n (non-negative integer) copies of the first 2 characters of a given string. \n",
    "Return the n copies of the whole string if the length is less than 2.'''\n",
    "def substring(str, n):\n",
    "    flen=2\n",
    "    if flen>len(str):\n",
    "        flen=len(str)\n",
    "    substr = str[:flen]\n",
    "    result = ' '\n",
    "    for i in range(n):\n",
    "        result = result+substr\n",
    "    return result\n",
    "print(substring('abcdef', 2))\n",
    "print(substring('p', 3));\n",
    "        "
   ]
  },
  {
   "cell_type": "code",
   "execution_count": 30,
   "metadata": {},
   "outputs": [
    {
     "name": "stdout",
     "output_type": "stream",
     "text": [
      " abcdefabcdef\n",
      " ppp\n"
     ]
    }
   ],
   "source": [
    "def substring(str, n):\n",
    "    flen=2\n",
    "    if flen>len(str):\n",
    "        flen=len(str)\n",
    "    substr = str[:flen]\n",
    "    result = ' '\n",
    "    for i in range(n):\n",
    "        result = result+str # small chene sub str\n",
    "    return result\n",
    "print(substring('abcdef', 2))\n",
    "print(substring('p', 3));\n",
    "        "
   ]
  },
  {
   "cell_type": "code",
   "execution_count": 31,
   "metadata": {},
   "outputs": [
    {
     "name": "stdout",
     "output_type": "stream",
     "text": [
      "False\n",
      "True\n"
     ]
    }
   ],
   "source": [
    "#Write a Python program to test whether a passed letter is a vowel or not.\n",
    "def is_vowel(char):\n",
    "    all_vowels = 'aeiou'\n",
    "    return char in all_vowels\n",
    "print(is_vowel('c'))\n",
    "print(is_vowel('e'))"
   ]
  },
  {
   "cell_type": "code",
   "execution_count": 32,
   "metadata": {},
   "outputs": [
    {
     "name": "stdout",
     "output_type": "stream",
     "text": [
      "True\n",
      "False\n"
     ]
    }
   ],
   "source": [
    "#Write a Python program to check whether a specified value is contained in a group of values\n",
    "def is_group_member(group_data, n):\n",
    "    for values in group_data:\n",
    "        if n ==values:\n",
    "            return True\n",
    "    return False\n",
    "print(is_group_member([1,5,8,3],3))\n",
    "print(is_group_member([5, 8, 3],-1))"
   ]
  },
  {
   "cell_type": "code",
   "execution_count": 33,
   "metadata": {},
   "outputs": [
    {
     "name": "stdout",
     "output_type": "stream",
     "text": [
      "**\n",
      "***\n",
      "****\n",
      "*****\n",
      "*******\n",
      "******\n"
     ]
    }
   ],
   "source": [
    "#Write a Python program to create a histogram from a given list of integers\n",
    "def histogram(items):\n",
    "    for n in items:\n",
    "        output = ''\n",
    "        times = n\n",
    "        while(times>0):\n",
    "            output += '*'\n",
    "            times = times-1\n",
    "        print(output)\n",
    "histogram([2,3,4,5,7,6])"
   ]
  },
  {
   "cell_type": "code",
   "execution_count": 34,
   "metadata": {},
   "outputs": [
    {
     "name": "stdout",
     "output_type": "stream",
     "text": [
      "115122\n"
     ]
    }
   ],
   "source": [
    "#Write a Python program to concatenate all elements in a list into a string and return it\n",
    "def concutenate_list_date(list):\n",
    "    result = ''\n",
    "    for element in list:\n",
    "        result += str(element)\n",
    "    return result\n",
    "print(concutenate_list_date([1, 15, 12, 2]))"
   ]
  },
  {
   "cell_type": "code",
   "execution_count": 35,
   "metadata": {},
   "outputs": [
    {
     "name": "stdout",
     "output_type": "stream",
     "text": [
      "386\n",
      "462\n",
      "47\n",
      "418\n",
      "907\n",
      "344\n",
      "236\n",
      "375\n",
      "823\n",
      "566\n",
      "597\n",
      "978\n",
      "328\n",
      "615\n",
      "953\n",
      "345\n",
      "399\n",
      "162\n",
      "758\n",
      "219\n",
      "918\n",
      "237\n"
     ]
    }
   ],
   "source": [
    "'''Write a Python program to print out all even numbers from a given numbers list in the same order and stop \n",
    "the printing if any numbers that come after 237 in the sequence'''\n",
    "numbers = [    \n",
    "    386, 462, 47, 418, 907, 344, 236, 375, 823, 566, 597, 978, 328, 615, 953, 345, \n",
    "    399, 162, 758, 219, 918, 237, 412, 566, 826, 248, 866, 950, 626, 949, 687, 217, \n",
    "    815, 67, 104, 58, 512, 24, 892, 894, 767, 553, 81, 379, 843, 831, 445, 742, 717, \n",
    "    958,743, 527\n",
    "    ]\n",
    "for x in numbers:\n",
    "    if x ==237:\n",
    "        print(x)\n",
    "        break\n",
    "    else:\n",
    "        x %2 ==0\n",
    "        print(x)\n",
    "    "
   ]
  },
  {
   "cell_type": "code",
   "execution_count": 36,
   "metadata": {},
   "outputs": [
    {
     "name": "stdout",
     "output_type": "stream",
     "text": [
      "{'Black', 'White'}\n"
     ]
    }
   ],
   "source": [
    "#Write a Python program to print out a set containing all the colors from color_list_1 which are not present in color_list_2.\n",
    "color1 = set([\"White\", \"Black\", \"Red\"])\n",
    "color2 = set([\"Red\", \"Green\"])\n",
    "\n",
    "print(color1.difference(color2))"
   ]
  },
  {
   "cell_type": "code",
   "execution_count": 37,
   "metadata": {},
   "outputs": [
    {
     "name": "stdout",
     "output_type": "stream",
     "text": [
      "Enter the base value: 6\n",
      "Enter the hieght value: 7\n",
      "Area of triangle:  21.0\n"
     ]
    }
   ],
   "source": [
    "#Write a Python program that will accept the base and height of a triangle and compute the area\n",
    "b = int(input('Enter the base value: '))\n",
    "h = int(input('Enter the hieght value: '))\n",
    "area = b*h/2\n",
    "print(\"Area of triangle: \",area)"
   ]
  },
  {
   "cell_type": "code",
   "execution_count": 38,
   "metadata": {},
   "outputs": [
    {
     "name": "stdout",
     "output_type": "stream",
     "text": [
      "1\n",
      "2\n"
     ]
    }
   ],
   "source": [
    "#Write a Python program to compute the greatest common divisor (GCD) of two positive integers\n",
    "def gcd(x, y):\n",
    "    gcd = 1\n",
    "    if x%y ==0:\n",
    "        return y\n",
    "    for k in range(int(y/2),0,-1):\n",
    "        if x%k == 0 and y%k==0:\n",
    "            gcd = k\n",
    "            break\n",
    "    return gcd\n",
    "print(gcd(12, 17))\n",
    "print(gcd(4, 6))"
   ]
  },
  {
   "cell_type": "code",
   "execution_count": 39,
   "metadata": {},
   "outputs": [
    {
     "name": "stdout",
     "output_type": "stream",
     "text": [
      "12\n",
      "4\n"
     ]
    }
   ],
   "source": [
    "def gcd(x, y):\n",
    "    gcd = 1\n",
    "    \n",
    "    if x % y == 0:\n",
    "        return y\n",
    "    \n",
    "    for k in range(int(y / 2), 0, -1):\n",
    "        if x % k == 0 and y % k == 0:\n",
    "            gcd = k\n",
    "            break  \n",
    "    return gcd\n",
    "\n",
    "print(gcd(12, 36))\n",
    "print(gcd(4, 28))\n"
   ]
  },
  {
   "cell_type": "code",
   "execution_count": 40,
   "metadata": {},
   "outputs": [
    {
     "name": "stdout",
     "output_type": "stream",
     "text": [
      "12\n",
      "255\n"
     ]
    }
   ],
   "source": [
    "#Write a Python program to get the least common multiple (LCM) of two positive integers\n",
    "def lcm(x, y):\n",
    "    if x>y:\n",
    "        z=x\n",
    "    else:\n",
    "        z=y\n",
    "    while(True):\n",
    "        if((z%x==0) and (z%y==0)):\n",
    "            lcm=z\n",
    "            break\n",
    "        z+=1\n",
    "    return lcm\n",
    "print(lcm(4, 6))\n",
    "print(lcm(15, 17))"
   ]
  },
  {
   "cell_type": "code",
   "execution_count": 41,
   "metadata": {},
   "outputs": [
    {
     "name": "stdout",
     "output_type": "stream",
     "text": [
      "7\n",
      "0\n",
      "0\n",
      "0\n",
      "6\n"
     ]
    }
   ],
   "source": [
    "#Write a Python program to sum of three given integers. However, if two values are equal sum will be zero\n",
    "def sum(x, y, z):\n",
    "    if x ==y or y==z or x==z:\n",
    "        sum = 0\n",
    "    else:\n",
    "        sum=x+y+z\n",
    "    return sum\n",
    "print(sum(1,2,4))\n",
    "print(sum(2, 1, 2))\n",
    "print(sum(3, 2, 2))\n",
    "print(sum(2, 2, 2))\n",
    "print(sum(1, 2, 3))"
   ]
  },
  {
   "cell_type": "code",
   "execution_count": 42,
   "metadata": {},
   "outputs": [
    {
     "name": "stdout",
     "output_type": "stream",
     "text": [
      "20\n",
      "12\n",
      "22\n",
      "20\n"
     ]
    }
   ],
   "source": [
    "#Write a Python program to sum of two given integers. However, if the sum is between 15 to 20 it will return 20.\n",
    "def sum(x, y):\n",
    "    sum = x+y\n",
    "    if sum in range(15, 20):\n",
    "        return 20\n",
    "    else:\n",
    "        return sum\n",
    "print(sum(10, 6))\n",
    "print(sum(10, 2))\n",
    "print(sum(10, 12))\n",
    "print(sum(12, 6))"
   ]
  },
  {
   "cell_type": "code",
   "execution_count": 43,
   "metadata": {},
   "outputs": [
    {
     "name": "stdout",
     "output_type": "stream",
     "text": [
      "False\n",
      "True\n",
      "True\n",
      "True\n",
      "True\n"
     ]
    }
   ],
   "source": [
    "#Write a Python program which will return true if the two given integer values are equal or their sum or difference is 5.\n",
    "def test_numbers(x, y):\n",
    "    if x==y or abs(x-y)==5 or abs(x+y)==5:\n",
    "        return True\n",
    "    else:\n",
    "        return False\n",
    "print(test_numbers(7, 5))\n",
    "print(test_numbers(10, 5))\n",
    "print(test_numbers(7, 2))\n",
    "print(test_numbers(3, 2))\n",
    "print(test_numbers(2, 2))"
   ]
  },
  {
   "cell_type": "code",
   "execution_count": 44,
   "metadata": {},
   "outputs": [
    {
     "name": "stdout",
     "output_type": "stream",
     "text": [
      "8\n"
     ]
    },
    {
     "ename": "NameError",
     "evalue": "name 'typeError' is not defined",
     "output_type": "error",
     "traceback": [
      "\u001b[1;31m---------------------------------------------------------------------------\u001b[0m",
      "\u001b[1;31mNameError\u001b[0m                                 Traceback (most recent call last)",
      "\u001b[1;32m<ipython-input-44-64ab4601231e>\u001b[0m in \u001b[0;36m<module>\u001b[1;34m\u001b[0m\n\u001b[0;32m      5\u001b[0m     \u001b[1;32mreturn\u001b[0m \u001b[0ma\u001b[0m\u001b[1;33m+\u001b[0m\u001b[0mb\u001b[0m\u001b[1;33m\u001b[0m\u001b[1;33m\u001b[0m\u001b[0m\n\u001b[0;32m      6\u001b[0m \u001b[0mprint\u001b[0m\u001b[1;33m(\u001b[0m\u001b[0madd_numbers\u001b[0m\u001b[1;33m(\u001b[0m\u001b[1;36m3\u001b[0m\u001b[1;33m,\u001b[0m \u001b[1;36m5\u001b[0m\u001b[1;33m)\u001b[0m\u001b[1;33m)\u001b[0m\u001b[1;33m\u001b[0m\u001b[1;33m\u001b[0m\u001b[0m\n\u001b[1;32m----> 7\u001b[1;33m \u001b[0mprint\u001b[0m\u001b[1;33m(\u001b[0m\u001b[0madd_numbers\u001b[0m\u001b[1;33m(\u001b[0m\u001b[1;36m4\u001b[0m\u001b[1;33m,\u001b[0m \u001b[1;36m5.0\u001b[0m\u001b[1;33m)\u001b[0m\u001b[1;33m)\u001b[0m\u001b[1;31m# float value show error\u001b[0m\u001b[1;33m\u001b[0m\u001b[1;33m\u001b[0m\u001b[0m\n\u001b[0m",
      "\u001b[1;32m<ipython-input-44-64ab4601231e>\u001b[0m in \u001b[0;36madd_numbers\u001b[1;34m(a, b)\u001b[0m\n\u001b[0;32m      2\u001b[0m \u001b[1;32mdef\u001b[0m \u001b[0madd_numbers\u001b[0m\u001b[1;33m(\u001b[0m\u001b[0ma\u001b[0m\u001b[1;33m,\u001b[0m \u001b[0mb\u001b[0m\u001b[1;33m)\u001b[0m\u001b[1;33m:\u001b[0m\u001b[1;33m\u001b[0m\u001b[1;33m\u001b[0m\u001b[0m\n\u001b[0;32m      3\u001b[0m     \u001b[1;32mif\u001b[0m \u001b[1;32mnot\u001b[0m\u001b[1;33m(\u001b[0m\u001b[0misinstance\u001b[0m\u001b[1;33m(\u001b[0m\u001b[0ma\u001b[0m\u001b[1;33m,\u001b[0m \u001b[0mint\u001b[0m\u001b[1;33m)\u001b[0m \u001b[1;32mand\u001b[0m  \u001b[0misinstance\u001b[0m\u001b[1;33m(\u001b[0m\u001b[0mb\u001b[0m\u001b[1;33m,\u001b[0m \u001b[0mint\u001b[0m\u001b[1;33m)\u001b[0m\u001b[1;33m)\u001b[0m\u001b[1;33m:\u001b[0m\u001b[1;33m\u001b[0m\u001b[1;33m\u001b[0m\u001b[0m\n\u001b[1;32m----> 4\u001b[1;33m         \u001b[1;32mraise\u001b[0m \u001b[0mtypeError\u001b[0m \u001b[1;33m(\u001b[0m\u001b[1;34m\" inputs must be integers\"\u001b[0m\u001b[1;33m)\u001b[0m\u001b[1;33m\u001b[0m\u001b[1;33m\u001b[0m\u001b[0m\n\u001b[0m\u001b[0;32m      5\u001b[0m     \u001b[1;32mreturn\u001b[0m \u001b[0ma\u001b[0m\u001b[1;33m+\u001b[0m\u001b[0mb\u001b[0m\u001b[1;33m\u001b[0m\u001b[1;33m\u001b[0m\u001b[0m\n\u001b[0;32m      6\u001b[0m \u001b[0mprint\u001b[0m\u001b[1;33m(\u001b[0m\u001b[0madd_numbers\u001b[0m\u001b[1;33m(\u001b[0m\u001b[1;36m3\u001b[0m\u001b[1;33m,\u001b[0m \u001b[1;36m5\u001b[0m\u001b[1;33m)\u001b[0m\u001b[1;33m)\u001b[0m\u001b[1;33m\u001b[0m\u001b[1;33m\u001b[0m\u001b[0m\n",
      "\u001b[1;31mNameError\u001b[0m: name 'typeError' is not defined"
     ]
    }
   ],
   "source": [
    "#Write a Python program to add two objects if both objects are an integer type.\n",
    "def add_numbers(a, b):\n",
    "    if not(isinstance(a, int) and  isinstance(b, int)):\n",
    "        raise typeError (\" inputs must be integers\")\n",
    "    return a+b\n",
    "print(add_numbers(3, 5))\n",
    "print(add_numbers(4, 5.0))# float value show error "
   ]
  },
  {
   "cell_type": "code",
   "execution_count": 45,
   "metadata": {},
   "outputs": [
    {
     "name": "stdout",
     "output_type": "stream",
     "text": [
      "Name: Balu\n",
      "Age: 24\n",
      "Address:Prakasam, AP,India\n"
     ]
    }
   ],
   "source": [
    "#Write a Python program to display your details like name, age, address in three different lines\n",
    "def personal_details():\n",
    "    name, age = \"Balu\", 24\n",
    "    address = \"Prakasam, AP,India\"\n",
    "    print(\"Name: {}\\nAge: {}\\nAddress:{}\".format(name, age, address))\n",
    "personal_details()"
   ]
  },
  {
   "cell_type": "code",
   "execution_count": 46,
   "metadata": {},
   "outputs": [
    {
     "name": "stdout",
     "output_type": "stream",
     "text": [
      "Name: Reddy\n",
      "Age: 25\n",
      "Address: Bangalore Karnataka India\n"
     ]
    }
   ],
   "source": [
    "def personal_details():\n",
    "    name, age = \"Reddy\", 25\n",
    "    address = \"Bangalore Karnataka India\"\n",
    "    print(\"Name: {}\\nAge: {}\\nAddress: {}\".format(name, age, address))\n",
    "\n",
    "personal_details()"
   ]
  },
  {
   "cell_type": "code",
   "execution_count": 47,
   "metadata": {},
   "outputs": [
    {
     "name": "stdout",
     "output_type": "stream",
     "text": [
      "(4 + 5)^2)=81\n"
     ]
    }
   ],
   "source": [
    "#Write a Python program to solve (x + y) * (x + y).\n",
    "x , y = 4, 5\n",
    "result = x*x + 2 *x*y + y*y\n",
    "print(\"({} + {})^2)={}\".format(x,y,result))"
   ]
  },
  {
   "cell_type": "code",
   "execution_count": 48,
   "metadata": {},
   "outputs": [
    {
     "name": "stdout",
     "output_type": "stream",
     "text": [
      "(4 + 3) ^ 2) = 49\n"
     ]
    }
   ],
   "source": [
    "x, y = 4, 3\n",
    "result = x * x + 2 * x * y + y * y\n",
    "print(\"({} + {}) ^ 2) = {}\".format(x, y, result))"
   ]
  },
  {
   "cell_type": "code",
   "execution_count": 49,
   "metadata": {},
   "outputs": [
    {
     "name": "stdout",
     "output_type": "stream",
     "text": [
      "11475.230006249996\n",
      "11475\n"
     ]
    }
   ],
   "source": [
    "#Write a Python program to compute the future value of a specified principal amount, rate of interest, and a number of years\n",
    "amount = 10000\n",
    "int = 3.5\n",
    "years = 4\n",
    "futre_value = amount*((1+0.01*int)**years)\n",
    "print(futre_value)\n",
    "print(round(futre_value))"
   ]
  },
  {
   "cell_type": "code",
   "execution_count": 50,
   "metadata": {},
   "outputs": [
    {
     "name": "stdout",
     "output_type": "stream",
     "text": [
      "6.324555320336759\n"
     ]
    }
   ],
   "source": [
    "#Write a Python program to compute the distance between the points (x1, y1) and (x2, y2)\n",
    "import math\n",
    "p1 = [4, 0]\n",
    "p2 = [6, 6]\n",
    "distance = math.sqrt((((p1[0]-p2[0])**2)+(p1[1]-p2[1])**2))\n",
    "print(distance)"
   ]
  },
  {
   "cell_type": "code",
   "execution_count": 51,
   "metadata": {},
   "outputs": [
    {
     "name": "stdout",
     "output_type": "stream",
     "text": [
      "False\n"
     ]
    }
   ],
   "source": [
    "#Write a Python program to check whether a file exists.\n",
    "import os.path\n",
    "open(\"abc.txt\", 'w')\n",
    "print(os.path.isfile(\"abs.txt\"))"
   ]
  },
  {
   "cell_type": "code",
   "execution_count": 52,
   "metadata": {},
   "outputs": [
    {
     "name": "stdout",
     "output_type": "stream",
     "text": [
      "True\n"
     ]
    }
   ],
   "source": [
    "import os.path\n",
    "open('abc.txt', 'w')\n",
    "print(os.path.isfile('abc.txt'))"
   ]
  },
  {
   "cell_type": "code",
   "execution_count": 53,
   "metadata": {},
   "outputs": [
    {
     "name": "stdout",
     "output_type": "stream",
     "text": [
      "64\n"
     ]
    }
   ],
   "source": [
    "#Write a Python program to determine whether a Python shell is executing in 32bit or 64bit mode on OS?\n",
    "import struct\n",
    "print(struct.calcsize(\"P\")*8)"
   ]
  },
  {
   "cell_type": "code",
   "execution_count": 54,
   "metadata": {},
   "outputs": [
    {
     "name": "stdout",
     "output_type": "stream",
     "text": [
      "nt\n",
      "Windows\n",
      "10\n"
     ]
    }
   ],
   "source": [
    "#Write a Python program to get OS name, platform and release information\n",
    "import platform\n",
    "import os\n",
    "print(os.name)\n",
    "print(platform.system())\n",
    "print(platform.release())"
   ]
  },
  {
   "cell_type": "code",
   "execution_count": 55,
   "metadata": {},
   "outputs": [
    {
     "name": "stdout",
     "output_type": "stream",
     "text": [
      "['c:\\\\python37', 'c:\\\\python37\\\\lib\\\\site-packages']\n"
     ]
    }
   ],
   "source": [
    "#Write a Python program to locate Python site-packages.\n",
    "import site\n",
    "print(site.getsitepackages())"
   ]
  },
  {
   "cell_type": "code",
   "execution_count": 56,
   "metadata": {},
   "outputs": [],
   "source": [
    "#Write a python program to call an external command in Python\n",
    "#from subprocess import call\n",
    "#call([\"IS\", \"-1\"]) cont find "
   ]
  },
  {
   "cell_type": "code",
   "execution_count": 57,
   "metadata": {},
   "outputs": [],
   "source": [
    "#Write a python program to get the path and name of the file that is currently executing\n",
    "#import os\n",
    "#print(\"current file name: \", os.path.realpath(__file__))"
   ]
  },
  {
   "cell_type": "code",
   "execution_count": 58,
   "metadata": {},
   "outputs": [
    {
     "name": "stdout",
     "output_type": "stream",
     "text": [
      "<bound method BaseContext.cpu_count of <multiprocessing.context.DefaultContext object at 0x00000234CE611E48>>\n"
     ]
    }
   ],
   "source": [
    "#Write a Python program to find out the number of CPUs using\n",
    "import multiprocessing\n",
    "print(multiprocessing.cpu_count)"
   ]
  },
  {
   "cell_type": "code",
   "execution_count": 59,
   "metadata": {},
   "outputs": [
    {
     "name": "stdout",
     "output_type": "stream",
     "text": [
      "234.564\n"
     ]
    },
    {
     "ename": "TypeError",
     "evalue": "'float' object is not callable",
     "output_type": "error",
     "traceback": [
      "\u001b[1;31m---------------------------------------------------------------------------\u001b[0m",
      "\u001b[1;31mTypeError\u001b[0m                                 Traceback (most recent call last)",
      "\u001b[1;32m<ipython-input-59-f20b84aa6ca4>\u001b[0m in \u001b[0;36m<module>\u001b[1;34m\u001b[0m\n\u001b[0;32m      2\u001b[0m \u001b[0mn\u001b[0m \u001b[1;33m=\u001b[0m \u001b[1;34m\"234.564\"\u001b[0m\u001b[1;33m\u001b[0m\u001b[1;33m\u001b[0m\u001b[0m\n\u001b[0;32m      3\u001b[0m \u001b[0mprint\u001b[0m\u001b[1;33m(\u001b[0m\u001b[0mfloat\u001b[0m\u001b[1;33m(\u001b[0m\u001b[0mn\u001b[0m\u001b[1;33m)\u001b[0m\u001b[1;33m)\u001b[0m\u001b[1;33m\u001b[0m\u001b[1;33m\u001b[0m\u001b[0m\n\u001b[1;32m----> 4\u001b[1;33m \u001b[0mprint\u001b[0m\u001b[1;33m(\u001b[0m\u001b[0mint\u001b[0m\u001b[1;33m(\u001b[0m\u001b[0mfloat\u001b[0m\u001b[1;33m(\u001b[0m\u001b[0mn\u001b[0m\u001b[1;33m)\u001b[0m\u001b[1;33m)\u001b[0m\u001b[1;33m)\u001b[0m\u001b[1;33m\u001b[0m\u001b[1;33m\u001b[0m\u001b[0m\n\u001b[0m",
      "\u001b[1;31mTypeError\u001b[0m: 'float' object is not callable"
     ]
    }
   ],
   "source": [
    "#Write a Python program to parse a string to Float or Integer.\n",
    "n = \"234.564\"\n",
    "print(float(n))\n",
    "print(int(float(n))) "
   ]
  },
  {
   "cell_type": "code",
   "execution_count": 60,
   "metadata": {},
   "outputs": [
    {
     "ename": "FileNotFoundError",
     "evalue": "[WinError 3] The system cannot find the path specified: '/home/student'",
     "output_type": "error",
     "traceback": [
      "\u001b[1;31m---------------------------------------------------------------------------\u001b[0m",
      "\u001b[1;31mFileNotFoundError\u001b[0m                         Traceback (most recent call last)",
      "\u001b[1;32m<ipython-input-60-d0a4b27090d6>\u001b[0m in \u001b[0;36m<module>\u001b[1;34m\u001b[0m\n\u001b[0;32m      2\u001b[0m \u001b[1;32mfrom\u001b[0m \u001b[0mos\u001b[0m \u001b[1;32mimport\u001b[0m \u001b[0mlistdir\u001b[0m\u001b[1;33m\u001b[0m\u001b[1;33m\u001b[0m\u001b[0m\n\u001b[0;32m      3\u001b[0m \u001b[1;32mfrom\u001b[0m \u001b[0mos\u001b[0m\u001b[1;33m.\u001b[0m\u001b[0mpath\u001b[0m \u001b[1;32mimport\u001b[0m \u001b[0misfile\u001b[0m\u001b[1;33m,\u001b[0m\u001b[0mjoin\u001b[0m\u001b[1;33m\u001b[0m\u001b[1;33m\u001b[0m\u001b[0m\n\u001b[1;32m----> 4\u001b[1;33m \u001b[0mfile_list\u001b[0m \u001b[1;33m=\u001b[0m \u001b[1;33m[\u001b[0m\u001b[0mf\u001b[0m \u001b[1;32mfor\u001b[0m \u001b[0mf\u001b[0m \u001b[1;32min\u001b[0m \u001b[0mlistdir\u001b[0m\u001b[1;33m(\u001b[0m\u001b[1;34m'/home/student'\u001b[0m\u001b[1;33m)\u001b[0m\u001b[1;32mif\u001b[0m \u001b[0misfile\u001b[0m\u001b[1;33m(\u001b[0m\u001b[0mjoin\u001b[0m\u001b[1;33m(\u001b[0m\u001b[1;34m'/home/student'\u001b[0m\u001b[1;33m,\u001b[0m \u001b[0mf\u001b[0m\u001b[1;33m)\u001b[0m\u001b[1;33m)\u001b[0m\u001b[1;33m]\u001b[0m\u001b[1;33m\u001b[0m\u001b[1;33m\u001b[0m\u001b[0m\n\u001b[0m\u001b[0;32m      5\u001b[0m \u001b[0mprint\u001b[0m\u001b[1;33m(\u001b[0m\u001b[0mfilelist\u001b[0m\u001b[1;33m)\u001b[0m\u001b[1;33m\u001b[0m\u001b[1;33m\u001b[0m\u001b[0m\n",
      "\u001b[1;31mFileNotFoundError\u001b[0m: [WinError 3] The system cannot find the path specified: '/home/student'"
     ]
    }
   ],
   "source": [
    "#Write a Python program to list all files in a directory in Python.\n",
    "from os import listdir\n",
    "from os.path import isfile,join\n",
    "file_list = [f for f in listdir('/home/student')if isfile(join('/home/student', f))]\n",
    "print(filelist)"
   ]
  },
  {
   "cell_type": "code",
   "execution_count": 61,
   "metadata": {},
   "outputs": [
    {
     "name": "stdout",
     "output_type": "stream",
     "text": [
      "**********\n",
      "\n"
     ]
    }
   ],
   "source": [
    "#Write a Python program to print without newline or space?\n",
    "for i in range(0, 10):\n",
    "    print(\"*\", end='')\n",
    "print(\"\\n\")"
   ]
  },
  {
   "cell_type": "code",
   "execution_count": null,
   "metadata": {},
   "outputs": [],
   "source": []
  }
 ],
 "metadata": {
  "kernelspec": {
   "display_name": "Python 3",
   "language": "python",
   "name": "python3"
  },
  "language_info": {
   "codemirror_mode": {
    "name": "ipython",
    "version": 3
   },
   "file_extension": ".py",
   "mimetype": "text/x-python",
   "name": "python",
   "nbconvert_exporter": "python",
   "pygments_lexer": "ipython3",
   "version": "3.7.3"
  }
 },
 "nbformat": 4,
 "nbformat_minor": 2
}
