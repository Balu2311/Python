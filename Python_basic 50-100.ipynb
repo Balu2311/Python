{
 "cells": [
  {
   "cell_type": "code",
   "execution_count": 3,
   "metadata": {},
   "outputs": [
    {
     "name": "stdout",
     "output_type": "stream",
     "text": [
      "3\n",
      "         39 function calls in 0.000 seconds\n",
      "\n",
      "   Ordered by: standard name\n",
      "\n",
      "   ncalls  tottime  percall  cumtime  percall filename:lineno(function)\n",
      "        1    0.000    0.000    0.000    0.000 <ipython-input-3-6798263a88a8>:6(sum)\n",
      "        1    0.000    0.000    0.000    0.000 <string>:1(<module>)\n",
      "        3    0.000    0.000    0.000    0.000 iostream.py:195(schedule)\n",
      "        2    0.000    0.000    0.000    0.000 iostream.py:307(_is_master_process)\n",
      "        2    0.000    0.000    0.000    0.000 iostream.py:320(_schedule_flush)\n",
      "        2    0.000    0.000    0.000    0.000 iostream.py:382(write)\n",
      "        3    0.000    0.000    0.000    0.000 iostream.py:93(_event_pipe)\n",
      "        3    0.000    0.000    0.000    0.000 socket.py:337(send)\n",
      "        3    0.000    0.000    0.000    0.000 threading.py:1038(_wait_for_tstate_lock)\n",
      "        3    0.000    0.000    0.000    0.000 threading.py:1080(is_alive)\n",
      "        3    0.000    0.000    0.000    0.000 threading.py:507(is_set)\n",
      "        1    0.000    0.000    0.000    0.000 {built-in method builtins.exec}\n",
      "        2    0.000    0.000    0.000    0.000 {built-in method builtins.isinstance}\n",
      "        1    0.000    0.000    0.000    0.000 {built-in method builtins.print}\n",
      "        2    0.000    0.000    0.000    0.000 {built-in method nt.getpid}\n",
      "        3    0.000    0.000    0.000    0.000 {method 'acquire' of '_thread.lock' objects}\n",
      "        3    0.000    0.000    0.000    0.000 {method 'append' of 'collections.deque' objects}\n",
      "        1    0.000    0.000    0.000    0.000 {method 'disable' of '_lsprof.Profiler' objects}\n",
      "\n",
      "\n"
     ]
    }
   ],
   "source": [
    "'''Write a Python program to determine profiling of Python programs.\n",
    "\n",
    "Note: A profile is a set of statistics that describes how often and for how long various parts of the program executed. \n",
    "These statistics can be formatted into reports via the pstats module.'''\n",
    "import cProfile\n",
    "def sum():\n",
    "    print(1+2)\n",
    "cProfile.run('sum()')"
   ]
  },
  {
   "cell_type": "code",
   "execution_count": 5,
   "metadata": {},
   "outputs": [
    {
     "name": "stderr",
     "output_type": "stream",
     "text": [
      "abc--rishi--reddy\n"
     ]
    }
   ],
   "source": [
    "#Write a Python program to print to stderr.\n",
    "from __future__ import print_function\n",
    "import sys\n",
    "def eprint(*args, **kwargs):\n",
    "    print(*args, file = sys.stderr, **kwargs)\n",
    "eprint('abc', 'rishi', 'reddy', sep ='--')"
   ]
  },
  {
   "cell_type": "code",
   "execution_count": 7,
   "metadata": {},
   "outputs": [
    {
     "name": "stdout",
     "output_type": "stream",
     "text": [
      "*----------------------------------*\n",
      "environ({'ALLUSERSPROFILE': 'C:\\\\ProgramData', 'APPDATA': 'C:\\\\Users\\\\User\\\\AppData\\\\Roaming', 'COMMONPROGRAMFILES': 'C:\\\\Program Files\\\\Common Files', 'COMMONPROGRAMFILES(X86)': 'C:\\\\Program Files (x86)\\\\Common Files', 'COMMONPROGRAMW6432': 'C:\\\\Program Files\\\\Common Files', 'COMPUTERNAME': 'WINDOWS-IQ1DESJ', 'COMSPEC': 'C:\\\\Windows\\\\system32\\\\cmd.exe', 'FPS_BROWSER_APP_PROFILE_STRING': 'Internet Explorer', 'FPS_BROWSER_USER_PROFILE_STRING': 'Default', 'HOMEDRIVE': 'C:', 'HOMEPATH': '\\\\Users\\\\User', 'LOCALAPPDATA': 'C:\\\\Users\\\\User\\\\AppData\\\\Local', 'LOGONSERVER': '\\\\\\\\WINDOWS-IQ1DESJ', 'NUMBER_OF_PROCESSORS': '8', 'OS': 'Windows_NT', 'PATH': 'C:\\\\Python37\\\\Scripts\\\\;C:\\\\Python37\\\\;C:\\\\Windows\\\\system32;C:\\\\Windows;C:\\\\Windows\\\\System32\\\\Wbem;C:\\\\Windows\\\\System32\\\\WindowsPowerShell\\\\v1.0\\\\;C:\\\\Program Files\\\\Microsoft SQL Server\\\\Client SDK\\\\ODBC\\\\130\\\\Tools\\\\Binn\\\\;C:\\\\Program Files (x86)\\\\Microsoft SQL Server\\\\140\\\\Tools\\\\Binn\\\\;C:\\\\Program Files\\\\Microsoft SQL Server\\\\140\\\\Tools\\\\Binn\\\\;C:\\\\Program Files\\\\Microsoft SQL Server\\\\140\\\\DTS\\\\Binn\\\\;C:\\\\Program Files (x86)\\\\Microsoft SQL Server\\\\150\\\\DTS\\\\Binn\\\\;C:\\\\Users\\\\User\\\\AppData\\\\Local\\\\Microsoft\\\\WindowsApps;;C:\\\\Program Files\\\\JetBrains\\\\PyCharm Community Edition 2019.1.3\\\\bin;', 'PATHEXT': '.COM;.EXE;.BAT;.CMD;.VBS;.VBE;.JS;.JSE;.WSF;.WSH;.MSC;.PY;.PYW', 'PROCESSOR_ARCHITECTURE': 'AMD64', 'PROCESSOR_IDENTIFIER': 'Intel64 Family 6 Model 142 Stepping 10, GenuineIntel', 'PROCESSOR_LEVEL': '6', 'PROCESSOR_REVISION': '8e0a', 'PROGRAMDATA': 'C:\\\\ProgramData', 'PROGRAMFILES': 'C:\\\\Program Files', 'PROGRAMFILES(X86)': 'C:\\\\Program Files (x86)', 'PROGRAMW6432': 'C:\\\\Program Files', 'PROMPT': '$P$G', 'PSMODULEPATH': 'C:\\\\Program Files\\\\WindowsPowerShell\\\\Modules;C:\\\\Windows\\\\system32\\\\WindowsPowerShell\\\\v1.0\\\\Modules;C:\\\\Program Files (x86)\\\\Microsoft SQL Server\\\\140\\\\Tools\\\\PowerShell\\\\Modules\\\\', 'PUBLIC': 'C:\\\\Users\\\\Public', 'PYCHARM COMMUNITY EDITION': 'C:\\\\Program Files\\\\JetBrains\\\\PyCharm Community Edition 2019.1.3\\\\bin;', 'SESSIONNAME': 'Console', 'SYSTEMDRIVE': 'C:', 'SYSTEMROOT': 'C:\\\\Windows', 'TEMP': 'C:\\\\Users\\\\User\\\\AppData\\\\Local\\\\Temp', 'TMP': 'C:\\\\Users\\\\User\\\\AppData\\\\Local\\\\Temp', 'USERDOMAIN': 'WINDOWS-IQ1DESJ', 'USERDOMAIN_ROAMINGPROFILE': 'WINDOWS-IQ1DESJ', 'USERNAME': 'User', 'USERPROFILE': 'C:\\\\Users\\\\User', 'WINDIR': 'C:\\\\Windows', 'JPY_INTERRUPT_EVENT': '1772', 'IPY_INTERRUPT_EVENT': '1772', 'JPY_PARENT_PID': '2220', 'TERM': 'xterm-color', 'CLICOLOR': '1', 'PAGER': 'cat', 'GIT_PAGER': 'cat', 'MPLBACKEND': 'module://ipykernel.pylab.backend_inline'})\n",
      "*----------------------------------*\n"
     ]
    },
    {
     "ename": "KeyError",
     "evalue": "'D'",
     "output_type": "error",
     "traceback": [
      "\u001b[1;31m---------------------------------------------------------------------------\u001b[0m",
      "\u001b[1;31mKeyError\u001b[0m                                  Traceback (most recent call last)",
      "\u001b[1;32m<ipython-input-7-704c130677cb>\u001b[0m in \u001b[0;36m<module>\u001b[1;34m\u001b[0m\n\u001b[0;32m      6\u001b[0m \u001b[0mprint\u001b[0m\u001b[1;33m(\u001b[0m\u001b[1;34m'*----------------------------------*'\u001b[0m\u001b[1;33m)\u001b[0m\u001b[1;33m\u001b[0m\u001b[1;33m\u001b[0m\u001b[0m\n\u001b[0;32m      7\u001b[0m \u001b[1;31m# Access a particular environment variable\u001b[0m\u001b[1;33m\u001b[0m\u001b[1;33m\u001b[0m\u001b[1;33m\u001b[0m\u001b[0m\n\u001b[1;32m----> 8\u001b[1;33m \u001b[0mprint\u001b[0m\u001b[1;33m(\u001b[0m\u001b[0mos\u001b[0m\u001b[1;33m.\u001b[0m\u001b[0menviron\u001b[0m\u001b[1;33m[\u001b[0m\u001b[1;34m'D'\u001b[0m\u001b[1;33m]\u001b[0m\u001b[1;33m)\u001b[0m\u001b[1;33m\u001b[0m\u001b[1;33m\u001b[0m\u001b[0m\n\u001b[0m\u001b[0;32m      9\u001b[0m \u001b[0mprint\u001b[0m\u001b[1;33m(\u001b[0m\u001b[1;34m'*----------------------------------*'\u001b[0m\u001b[1;33m)\u001b[0m\u001b[1;33m\u001b[0m\u001b[1;33m\u001b[0m\u001b[0m\n\u001b[0;32m     10\u001b[0m \u001b[0mprint\u001b[0m\u001b[1;33m(\u001b[0m\u001b[0mos\u001b[0m\u001b[1;33m.\u001b[0m\u001b[0menviron\u001b[0m\u001b[1;33m[\u001b[0m\u001b[1;34m'PATH'\u001b[0m\u001b[1;33m]\u001b[0m\u001b[1;33m)\u001b[0m\u001b[1;33m\u001b[0m\u001b[1;33m\u001b[0m\u001b[0m\n",
      "\u001b[1;32mc:\\python37\\lib\\os.py\u001b[0m in \u001b[0;36m__getitem__\u001b[1;34m(self, key)\u001b[0m\n\u001b[0;32m    676\u001b[0m         \u001b[1;32mexcept\u001b[0m \u001b[0mKeyError\u001b[0m\u001b[1;33m:\u001b[0m\u001b[1;33m\u001b[0m\u001b[1;33m\u001b[0m\u001b[0m\n\u001b[0;32m    677\u001b[0m             \u001b[1;31m# raise KeyError with the original key value\u001b[0m\u001b[1;33m\u001b[0m\u001b[1;33m\u001b[0m\u001b[1;33m\u001b[0m\u001b[0m\n\u001b[1;32m--> 678\u001b[1;33m             \u001b[1;32mraise\u001b[0m \u001b[0mKeyError\u001b[0m\u001b[1;33m(\u001b[0m\u001b[0mkey\u001b[0m\u001b[1;33m)\u001b[0m \u001b[1;32mfrom\u001b[0m \u001b[1;32mNone\u001b[0m\u001b[1;33m\u001b[0m\u001b[1;33m\u001b[0m\u001b[0m\n\u001b[0m\u001b[0;32m    679\u001b[0m         \u001b[1;32mreturn\u001b[0m \u001b[0mself\u001b[0m\u001b[1;33m.\u001b[0m\u001b[0mdecodevalue\u001b[0m\u001b[1;33m(\u001b[0m\u001b[0mvalue\u001b[0m\u001b[1;33m)\u001b[0m\u001b[1;33m\u001b[0m\u001b[1;33m\u001b[0m\u001b[0m\n\u001b[0;32m    680\u001b[0m \u001b[1;33m\u001b[0m\u001b[0m\n",
      "\u001b[1;31mKeyError\u001b[0m: 'D'"
     ]
    }
   ],
   "source": [
    "#Write a python program to access environment variables.\n",
    "import os\n",
    "# Access all environment variables \n",
    "print('*----------------------------------*')\n",
    "print(os.environ)\n",
    "print('*----------------------------------*')\n",
    "# Access a particular environment variable \n",
    "print(os.environ['D'])\n",
    "print('*----------------------------------*')\n",
    "print(os.environ['PATH'])\n",
    "print('*----------------------------------*')"
   ]
  },
  {
   "cell_type": "code",
   "execution_count": 8,
   "metadata": {},
   "outputs": [
    {
     "name": "stdout",
     "output_type": "stream",
     "text": [
      "User\n"
     ]
    }
   ],
   "source": [
    "#Write a Python program to get the current username\n",
    "import getpass\n",
    "print(getpass.getuser())"
   ]
  },
  {
   "cell_type": "code",
   "execution_count": 9,
   "metadata": {},
   "outputs": [
    {
     "name": "stdout",
     "output_type": "stream",
     "text": [
      "192.168.10.115\n"
     ]
    }
   ],
   "source": [
    "#Write a Python to find local IP addresses using Python's stdlib.\n",
    "import socket\n",
    "print([l for l in ([ip for ip in socket.gethostbyname_ex(socket.gethostname())[2] \n",
    "if not ip.startswith(\"127.\")][:1], [[(s.connect(('8.8.8.8', 53)), \n",
    "s.getsockname()[0], s.close()) for s in [socket.socket(socket.AF_INET, \n",
    "socket.SOCK_DGRAM)]][0][1]]) if l][0][0])"
   ]
  },
  {
   "cell_type": "code",
   "execution_count": 11,
   "metadata": {},
   "outputs": [
    {
     "ename": "ModuleNotFoundError",
     "evalue": "No module named 'fcntl'",
     "output_type": "error",
     "traceback": [
      "\u001b[1;31m---------------------------------------------------------------------------\u001b[0m",
      "\u001b[1;31mModuleNotFoundError\u001b[0m                       Traceback (most recent call last)",
      "\u001b[1;32m<ipython-input-11-8e850cb511a1>\u001b[0m in \u001b[0;36m<module>\u001b[1;34m\u001b[0m\n\u001b[0;32m      1\u001b[0m \u001b[1;31m#Write a Python program to get height and the width of console window.\u001b[0m\u001b[1;33m\u001b[0m\u001b[1;33m\u001b[0m\u001b[1;33m\u001b[0m\u001b[0m\n\u001b[1;32m----> 2\u001b[1;33m \u001b[1;32mimport\u001b[0m \u001b[0mfcntl\u001b[0m\u001b[1;33m,\u001b[0m \u001b[0mtermios\u001b[0m\u001b[1;33m,\u001b[0m \u001b[0mstruct\u001b[0m\u001b[1;33m\u001b[0m\u001b[1;33m\u001b[0m\u001b[0m\n\u001b[0m\u001b[0;32m      3\u001b[0m \u001b[1;32mdef\u001b[0m \u001b[0mterminal_size\u001b[0m\u001b[1;33m(\u001b[0m\u001b[1;33m)\u001b[0m\u001b[1;33m:\u001b[0m\u001b[1;33m\u001b[0m\u001b[1;33m\u001b[0m\u001b[0m\n\u001b[0;32m      4\u001b[0m     th, tw, hp, wp = struct.unpack('HHHH',\n\u001b[0;32m      5\u001b[0m         fcntl.ioctl(0, termios.TIOCGWINSZ,\n",
      "\u001b[1;31mModuleNotFoundError\u001b[0m: No module named 'fcntl'"
     ]
    }
   ],
   "source": [
    "#Write a Python program to get height and the width of console window.\n",
    "import fcntl, termios, struct\n",
    "def terminal_size():\n",
    "    th, tw, hp, wp = struct.unpack('HHHH',\n",
    "        fcntl.ioctl(0, termios.TIOCGWINSZ,\n",
    "        struct.pack('HHHH', 0, 0, 0, 0)))\n",
    "    return tw, th\n",
    "\n",
    "print('Number of columns and Rows: ',terminal_size())"
   ]
  },
  {
   "cell_type": "code",
   "execution_count": 12,
   "metadata": {},
   "outputs": [
    {
     "name": "stdout",
     "output_type": "stream",
     "text": [
      "\n",
      "Time of sum of 1 to 'n' and required time to calculate is :  (15, 0.0)\n"
     ]
    }
   ],
   "source": [
    "#Write a program to get execution time (in seconds) for a Python method.\n",
    "import time\n",
    "def sum_of_n_numbers(n):\n",
    "    start_time = time.time()\n",
    "    s = 0\n",
    "    for i in range(1,n+1):\n",
    "        s = s+i\n",
    "    end_time = time.time()\n",
    "    return s, end_time - start_time\n",
    "n = 5\n",
    "print(\"\\nTime of sum of 1 to 'n' and required time to calculate is : \", sum_of_n_numbers(n))"
   ]
  },
  {
   "cell_type": "code",
   "execution_count": 13,
   "metadata": {},
   "outputs": [
    {
     "name": "stdout",
     "output_type": "stream",
     "text": [
      "Enter the number: 8\n",
      "36.0\n"
     ]
    }
   ],
   "source": [
    "#Write a python program to find the sum of the first n positive integers\n",
    "n = int(input(\"Enter the number: \"))\n",
    "sum_num = (n*(n+1))/2\n",
    "print(sum_num)"
   ]
  },
  {
   "cell_type": "code",
   "execution_count": 17,
   "metadata": {},
   "outputs": [
    {
     "name": "stdout",
     "output_type": "stream",
     "text": [
      "your height: \n",
      "feet: 5\n",
      "inches: 4\n",
      "your  height is: 162 cm.\n"
     ]
    }
   ],
   "source": [
    "#Write a Python program to convert height (in feet and inches) to centimeters\n",
    "print('your height: ')\n",
    "h_ft = int(input(\"feet: \"))\n",
    "h_inch = int(input('inches: '))\n",
    "h_inch += h_ft *12\n",
    "h_cm = round(h_inch * 2.54, 1)\n",
    "print(\"your  height is: %d cm.\"%h_cm)"
   ]
  },
  {
   "cell_type": "code",
   "execution_count": 18,
   "metadata": {},
   "outputs": [
    {
     "name": "stdout",
     "output_type": "stream",
     "text": [
      "input langth of sharter traingle sides: \n",
      "a: 4\n",
      "b: 5\n",
      "The length of the hypotenuse is: 6.4031242374328485\n"
     ]
    }
   ],
   "source": [
    "#Write a Python program to calculate the hypotenuse of a right angled triangle.\n",
    "from math import sqrt\n",
    "print(\"input langth of sharter traingle sides: \")\n",
    "a = float(input('a: '))\n",
    "b = float(input('b: '))\n",
    "c = sqrt(a**2 + b**2)\n",
    "print('The length of the hypotenuse is:', c)"
   ]
  },
  {
   "cell_type": "code",
   "execution_count": 21,
   "metadata": {},
   "outputs": [
    {
     "name": "stdout",
     "output_type": "stream",
     "text": [
      "Enter the number: 100\n",
      "The distance in inches is 1200 inches.\n",
      "The distance in yards is 33.33 yards.\n",
      "The distance in miles is 0.02 miles.\n"
     ]
    }
   ],
   "source": [
    "#Write a Python program to convert the distance (in feet) to inches, yards, and miles\n",
    "d_ft = int(input(\"Enter the number: \"))\n",
    "d_inches = d_ft*12\n",
    "d_yards = d_ft / 3.0\n",
    "d_miles = d_ft / 5280.0\n",
    "print(\"The distance in inches is %i inches.\" % d_inches)\n",
    "print(\"The distance in yards is %.2f yards.\" % d_yards)\n",
    "print(\"The distance in miles is %.2f miles.\" % d_miles)"
   ]
  },
  {
   "cell_type": "code",
   "execution_count": 23,
   "metadata": {},
   "outputs": [
    {
     "name": "stdout",
     "output_type": "stream",
     "text": [
      "Enter the days: 2\n",
      "Enter the hours: 3\n",
      "Enter the minits: 4\n",
      "Enter the seconds: 5\n",
      "The amount of seconds:  183845\n"
     ]
    }
   ],
   "source": [
    "#Write a Python program to convert all units of time into seconds\n",
    "days = int(input(\"Enter the days: \")) *3600*24\n",
    "hours = int(input(\"Enter the hours: \"))*3600\n",
    "minit = int(input(\"Enter the minits: \"))* 60\n",
    "seconds = int(input(\"Enter the seconds: \"))\n",
    "Time = days + hours + minit + seconds\n",
    "print(\"The amount of seconds: \",Time)"
   ]
  },
  {
   "cell_type": "code",
   "execution_count": 27,
   "metadata": {},
   "outputs": [
    {
     "name": "stdout",
     "output_type": "stream",
     "text": [
      "Absolute file pathe:  D:\\path_fname\n"
     ]
    }
   ],
   "source": [
    "#Write a Python program to get an absolute file path.\n",
    "def absolute_file_path(path_fname):\n",
    "    import os\n",
    "    return os.path.abspath('path_fname')\n",
    "print(\"Absolute file pathe: \",absolute_file_path(\"test.txt\"))"
   ]
  },
  {
   "cell_type": "code",
   "execution_count": 28,
   "metadata": {},
   "outputs": [
    {
     "ename": "FileNotFoundError",
     "evalue": "[WinError 2] The system cannot find the file specified: 'test.txt'",
     "output_type": "error",
     "traceback": [
      "\u001b[1;31m---------------------------------------------------------------------------\u001b[0m",
      "\u001b[1;31mFileNotFoundError\u001b[0m                         Traceback (most recent call last)",
      "\u001b[1;32m<ipython-input-28-f0f71b5373a2>\u001b[0m in \u001b[0;36m<module>\u001b[1;34m\u001b[0m\n\u001b[0;32m      1\u001b[0m \u001b[1;31m#Write a Python program to get file creation and modification date/times\u001b[0m\u001b[1;33m\u001b[0m\u001b[1;33m\u001b[0m\u001b[1;33m\u001b[0m\u001b[0m\n\u001b[0;32m      2\u001b[0m \u001b[1;32mimport\u001b[0m \u001b[0mos\u001b[0m\u001b[1;33m.\u001b[0m\u001b[0mpath\u001b[0m\u001b[1;33m,\u001b[0m \u001b[0mtime\u001b[0m\u001b[1;33m\u001b[0m\u001b[1;33m\u001b[0m\u001b[0m\n\u001b[1;32m----> 3\u001b[1;33m \u001b[0mprint\u001b[0m\u001b[1;33m(\u001b[0m\u001b[1;34m\"Last modified: %s\"\u001b[0m \u001b[1;33m%\u001b[0m \u001b[0mtime\u001b[0m\u001b[1;33m.\u001b[0m\u001b[0mctime\u001b[0m\u001b[1;33m(\u001b[0m\u001b[0mos\u001b[0m\u001b[1;33m.\u001b[0m\u001b[0mpath\u001b[0m\u001b[1;33m.\u001b[0m\u001b[0mgetmtime\u001b[0m\u001b[1;33m(\u001b[0m\u001b[1;34m\"test.txt\"\u001b[0m\u001b[1;33m)\u001b[0m\u001b[1;33m)\u001b[0m\u001b[1;33m)\u001b[0m\u001b[1;33m\u001b[0m\u001b[1;33m\u001b[0m\u001b[0m\n\u001b[0m\u001b[0;32m      4\u001b[0m \u001b[0mprint\u001b[0m\u001b[1;33m(\u001b[0m\u001b[1;34m\"Created: %s\"\u001b[0m \u001b[1;33m%\u001b[0m \u001b[0mtime\u001b[0m\u001b[1;33m.\u001b[0m\u001b[0mctime\u001b[0m\u001b[1;33m(\u001b[0m\u001b[0mos\u001b[0m\u001b[1;33m.\u001b[0m\u001b[0mpath\u001b[0m\u001b[1;33m.\u001b[0m\u001b[0mgetctime\u001b[0m\u001b[1;33m(\u001b[0m\u001b[1;34m\"test.txt\"\u001b[0m\u001b[1;33m)\u001b[0m\u001b[1;33m)\u001b[0m\u001b[1;33m)\u001b[0m\u001b[1;33m\u001b[0m\u001b[1;33m\u001b[0m\u001b[0m\n",
      "\u001b[1;32mc:\\python37\\lib\\genericpath.py\u001b[0m in \u001b[0;36mgetmtime\u001b[1;34m(filename)\u001b[0m\n\u001b[0;32m     53\u001b[0m \u001b[1;32mdef\u001b[0m \u001b[0mgetmtime\u001b[0m\u001b[1;33m(\u001b[0m\u001b[0mfilename\u001b[0m\u001b[1;33m)\u001b[0m\u001b[1;33m:\u001b[0m\u001b[1;33m\u001b[0m\u001b[1;33m\u001b[0m\u001b[0m\n\u001b[0;32m     54\u001b[0m     \u001b[1;34m\"\"\"Return the last modification time of a file, reported by os.stat().\"\"\"\u001b[0m\u001b[1;33m\u001b[0m\u001b[1;33m\u001b[0m\u001b[0m\n\u001b[1;32m---> 55\u001b[1;33m     \u001b[1;32mreturn\u001b[0m \u001b[0mos\u001b[0m\u001b[1;33m.\u001b[0m\u001b[0mstat\u001b[0m\u001b[1;33m(\u001b[0m\u001b[0mfilename\u001b[0m\u001b[1;33m)\u001b[0m\u001b[1;33m.\u001b[0m\u001b[0mst_mtime\u001b[0m\u001b[1;33m\u001b[0m\u001b[1;33m\u001b[0m\u001b[0m\n\u001b[0m\u001b[0;32m     56\u001b[0m \u001b[1;33m\u001b[0m\u001b[0m\n\u001b[0;32m     57\u001b[0m \u001b[1;33m\u001b[0m\u001b[0m\n",
      "\u001b[1;31mFileNotFoundError\u001b[0m: [WinError 2] The system cannot find the file specified: 'test.txt'"
     ]
    }
   ],
   "source": [
    "#Write a Python program to get file creation and modification date/times\n",
    "import os.path, time\n",
    "print(\"Last modified: %s\" % time.ctime(os.path.getmtime(\"test.txt\")))\n",
    "print(\"Created: %s\" % time.ctime(os.path.getctime(\"test.txt\")))"
   ]
  },
  {
   "cell_type": "code",
   "execution_count": 30,
   "metadata": {},
   "outputs": [
    {
     "name": "stdout",
     "output_type": "stream",
     "text": [
      "Input time in seconds: 340005\n",
      "d:h:m:s-> 3:22:26:45\n"
     ]
    }
   ],
   "source": [
    "#Write a Python program to convert seconds to day, hour, minutes and seconds\n",
    "Time = float(input(\"Input time in seconds: \"))\n",
    "day = Time//(24*3600)\n",
    "Time = Time%(24*3600)\n",
    "hour = Time//3600\n",
    "Time %=3600\n",
    "minutes = Time//60\n",
    "Time%=60\n",
    "seconds = Time\n",
    "print(\"d:h:m:s-> %d:%d:%d:%d\" % (day, hour, minutes, seconds))"
   ]
  },
  {
   "cell_type": "code",
   "execution_count": 31,
   "metadata": {},
   "outputs": [
    {
     "name": "stdout",
     "output_type": "stream",
     "text": [
      "Enter the height of body: 5\n",
      "Enter the weight of body: 58\n",
      "Your body in index is:  2.32\n"
     ]
    }
   ],
   "source": [
    "#Write a Python program to calculate body mass index\n",
    "Height = int(input(\"Enter the height of body: \"))\n",
    "Weight = int(input(\"Enter the weight of body: \"))\n",
    "print('Your body in index is: ',round(Weight/(Height*Height), 2))"
   ]
  },
  {
   "cell_type": "code",
   "execution_count": 32,
   "metadata": {},
   "outputs": [
    {
     "name": "stdout",
     "output_type": "stream",
     "text": [
      "Input pressure in in kilopascals> 5.6\n",
      "The pressure in pounds per square inch: 0.81 psi\n",
      "The pressure in millimeter of mercury: 42.00 mmHg\n",
      "Atmosphere pressure: 0.06 atm.\n"
     ]
    }
   ],
   "source": [
    "'''Write a Python program to convert pressure in kilopascals to pounds per square inch,\n",
    "a millimeter of mercury (mmHg) and atmosphere pressure'''\n",
    "kpa = float(input(\"Input pressure in in kilopascals> \"))\n",
    "psi = kpa / 6.89475729\n",
    "mmhg = kpa * 760 / 101.325\n",
    "atm = kpa / 101.325\n",
    "print(\"The pressure in pounds per square inch: %.2f psi\"  % (psi))\n",
    "print(\"The pressure in millimeter of mercury: %.2f mmHg\" % (mmhg))\n",
    "print(\"Atmosphere pressure: %.2f atm.\" % (atm))"
   ]
  },
  {
   "cell_type": "code",
   "execution_count": 35,
   "metadata": {},
   "outputs": [
    {
     "name": "stdout",
     "output_type": "stream",
     "text": [
      " input of a four digit numbers: 5245\n",
      "The sum of digits in the numbers is:  16\n"
     ]
    }
   ],
   "source": [
    "#Write a Python program to calculate the sum of the digits in an integer\n",
    "num = int(input(\" input of a four digit numbers: \"))\n",
    "x = num//1000\n",
    "x1 = (num-x*1000)//100\n",
    "x2 = (num-x*1000-x1*100)//10\n",
    "x3 = num-x*1000-x1*100-x2*10\n",
    "print(\"The sum of digits in the numbers is: \",x+x1+x2+x3)"
   ]
  },
  {
   "cell_type": "code",
   "execution_count": 36,
   "metadata": {},
   "outputs": [
    {
     "name": "stdout",
     "output_type": "stream",
     "text": [
      "Enter the number: 6\n",
      "Enter the number: 5\n",
      "Enter the number: 7\n",
      "the scorter order:  5 6 7\n"
     ]
    }
   ],
   "source": [
    "#Write a Python program to sort three integers without using conditional statements and loops\n",
    "x = int(input(\"Enter the number: \"))\n",
    "y = int(input(\"Enter the number: \"))\n",
    "z = int(input(\"Enter the number: \"))\n",
    "a1 = min(x, y, z)\n",
    "a3 = max(x, y, z)\n",
    "a2 =(x+y+z)-a1-a3\n",
    "print(\"the scorter order: \",a1, a2, a3)"
   ]
  },
  {
   "cell_type": "code",
   "execution_count": 38,
   "metadata": {},
   "outputs": [
    {
     "name": "stdout",
     "output_type": "stream",
     "text": [
      "abc.txt\n"
     ]
    }
   ],
   "source": [
    "#Write a Python program to sort files by date\n",
    "import glob\n",
    "import os\n",
    "files = glob.glob(\"*.txt\")\n",
    "files.sort(key=os.path.getmtime)\n",
    "print('\\n'.join(files))"
   ]
  },
  {
   "cell_type": "code",
   "execution_count": 45,
   "metadata": {},
   "outputs": [
    {
     "name": "stdout",
     "output_type": "stream",
     "text": [
      "Thu Jul  4 15:41:58 2019 PandasAssignments (1).ipynb\n",
      "Tue Nov  5 09:49:49 2019 Project.ipynb\n",
      "Fri Feb 21 10:03:04 2020 Python_Basics1-50.ipynb\n",
      "Sat Feb 22 13:12:13 2020 abc.txt\n",
      "Sun Feb 23 04:32:41 2020 Python_basic 50-100.ipynb\n"
     ]
    }
   ],
   "source": [
    "#Write a Python program to get a directory listing, sorted by creation date.\n",
    "from stat import S_ISREG, ST_CTIME, ST_MODE\n",
    "import os, sys, time\n",
    "#Relative or absolute pathe to the directors\n",
    "dir_path = sys.argv[1] if len(sys.argv) == 2 else r'.'\n",
    "#all entries in the directory w /stats\n",
    "data = (os.path.join(dir_path,fn) for fn in os.listdir(dir_path))\n",
    "data = ((os.stat(path),path)for path in data)\n",
    "# regular files , insert creation data\n",
    "data = ((stat[ST_CTIME],path)\n",
    "        for stat, path in data if S_ISREG(stat[ST_MODE]))\n",
    "for cdata, path in sorted(data):\n",
    "    print(time.ctime(cdata),os.path.basename(path))"
   ]
  },
  {
   "cell_type": "code",
   "execution_count": 46,
   "metadata": {},
   "outputs": [
    {
     "name": "stdout",
     "output_type": "stream",
     "text": [
      "['__doc__', '__loader__', '__name__', '__package__', '__spec__', 'acos', 'acosh', 'asin', 'asinh', 'atan', 'atan2', 'atanh', 'ceil', 'copysign', 'cos', 'cosh', 'degrees', 'e', 'erf', 'erfc', 'exp', 'expm1', 'fabs', 'factorial', 'floor', 'fmod', 'frexp', 'fsum', 'gamma', 'gcd', 'hypot', 'inf', 'isclose', 'isfinite', 'isinf', 'isnan', 'ldexp', 'lgamma', 'log', 'log10', 'log1p', 'log2', 'modf', 'nan', 'pi', 'pow', 'radians', 'remainder', 'sin', 'sinh', 'sqrt', 'tan', 'tanh', 'tau', 'trunc']\n"
     ]
    }
   ],
   "source": [
    "'''Write a Python program to get the details of math module'''\n",
    "# Imports the math module\n",
    "import math            \n",
    "#Sets everything to a list of math module\n",
    "math_ls = dir(math)  \n",
    "print(math_ls)"
   ]
  },
  {
   "cell_type": "code",
   "execution_count": 47,
   "metadata": {},
   "outputs": [
    {
     "name": "stdout",
     "output_type": "stream",
     "text": [
      "\n",
      "Calculate the midpoint of a line :\n",
      "The value of x (the first endpoint) 7\n",
      "The value of y (the first endpoint) 8\n",
      "The value of x (the first endpoint) 6\n",
      "The value of y (the first endpoint) 8\n",
      "\n",
      "The midpoint of line is :\n",
      "The midpoint's x value is:  6.5\n",
      "The midpoint's y value is:  8.0\n",
      "\n"
     ]
    }
   ],
   "source": [
    "#Write a Python program to calculate midpoints of a line.\n",
    "print('\\nCalculate the midpoint of a line :')  # formula = (x1+x2)/2, (y1+y2)/2\n",
    "\n",
    "x1 = float(input('The value of x (the first endpoint) '))\n",
    "y1 = float(input('The value of y (the first endpoint) '))\n",
    "\n",
    "x2 = float(input('The value of x (the first endpoint) '))\n",
    "y2 = float(input('The value of y (the first endpoint) '))\n",
    "\n",
    "x_m_point = (x1 + x2)/2\n",
    "y_m_point = (y1 + y2)/2\n",
    "print();\n",
    "print(\"The midpoint of line is :\")\n",
    "print( \"The midpoint's x value is: \",x_m_point)\n",
    "print( \"The midpoint's y value is: \",y_m_point)\n",
    "print();"
   ]
  },
  {
   "cell_type": "code",
   "execution_count": 48,
   "metadata": {},
   "outputs": [
    {
     "name": "stdout",
     "output_type": "stream",
     "text": [
      "input the word be has hed: 56\n",
      "\n",
      "the coded word is: 54\n",
      "\n"
     ]
    }
   ],
   "source": [
    "#Write a Python program to hash a word.\n",
    "soundex=[0,1,2,3,0,1,2,0,0,2,2,4,5,5,0,1,2,6,2,3,0,1,0,2,0,2]\n",
    "word = input('input the word be has hed: ')\n",
    "word = word.upper()\n",
    "coded = word[0]\n",
    "for a in word[1: len(word)]:\n",
    "    i =65-ord(a)\n",
    "    coded = coded+str(soundex[i])\n",
    "print()\n",
    "print(\"the coded word is: \"+coded)\n",
    "print()"
   ]
  },
  {
   "cell_type": "code",
   "execution_count": 49,
   "metadata": {},
   "outputs": [
    {
     "name": "stdout",
     "output_type": "stream",
     "text": [
      "\n",
      "Python copyright information\n",
      "Copyright (c) 2001-2019 Python Software Foundation.\n",
      "All Rights Reserved.\n",
      "\n",
      "Copyright (c) 2000 BeOpen.com.\n",
      "All Rights Reserved.\n",
      "\n",
      "Copyright (c) 1995-2001 Corporation for National Research Initiatives.\n",
      "All Rights Reserved.\n",
      "\n",
      "Copyright (c) 1991-1995 Stichting Mathematisch Centrum, Amsterdam.\n",
      "All Rights Reserved.\n"
     ]
    }
   ],
   "source": [
    "#Write a Python program to get the copyright information.\n",
    "import sys\n",
    "print(\"\\nPython copyright information\")\n",
    "print(sys.copyright)"
   ]
  },
  {
   "cell_type": "code",
   "execution_count": 2,
   "metadata": {},
   "outputs": [
    {
     "name": "stdout",
     "output_type": "stream",
     "text": [
      "This is the name / path of the script: \n",
      "Number of arrguments:  3\n",
      "Argument list :  ['c:\\\\python37\\\\lib\\\\site-packages\\\\ipykernel_launcher.py', '-f', 'C:\\\\Users\\\\User\\\\AppData\\\\Roaming\\\\jupyter\\\\runtime\\\\kernel-1b32ef40-a64d-4f7b-a8f7-1af4064cb975.json']\n"
     ]
    }
   ],
   "source": [
    "'''Write a Python program to get the command-line arguments (name of the script, \n",
    "the number of arguments, arguments) passed to a script.'''\n",
    "import sys \n",
    "print('This is the name / path of the script: '),sys.argv[0]\n",
    "print('Number of arrguments: ', len(sys.argv))\n",
    "print('Argument list : ', str(sys.argv))"
   ]
  },
  {
   "cell_type": "code",
   "execution_count": 3,
   "metadata": {},
   "outputs": [
    {
     "name": "stdout",
     "output_type": "stream",
     "text": [
      "\n",
      "Little-endian platfrom. \n",
      "\n"
     ]
    }
   ],
   "source": [
    "#Write a Python program to test whether the system is a big-endian platform or little-endian platform.\n",
    "print()\n",
    "if sys.byteorder == 'little':\n",
    "    #intal alpha\n",
    "    print('Little-endian platfrom. ')\n",
    "else:\n",
    "    #motorala, space\n",
    "    print('Big-endian platfrom. ')\n",
    "print()"
   ]
  },
  {
   "cell_type": "code",
   "execution_count": 5,
   "metadata": {},
   "outputs": [
    {
     "name": "stdout",
     "output_type": "stream",
     "text": [
      "_abc,_ast,_bisect,_blake2,_codecs,_codecs_cn,_codecs_hk,_codecs_iso202\n",
      "2,_codecs_jp,_codecs_kr,_codecs_tw,_collections,_contextvars,_csv,_dat\n",
      "etime,_functools,_heapq,_imp,_io,_json,_locale,_lsprof,_md5,_multibyte\n",
      "codec,_opcode,_operator,_pickle,_random,_sha1,_sha256,_sha3,_sha512,_s\n",
      "ignal,_sre,_stat,_string,_struct,_symtable,_thread,_tracemalloc,_warni\n",
      "ngs,_weakref,_winapi,array,atexit,audioop,binascii,builtins,cmath,errn\n",
      "o,faulthandler,gc,itertools,marshal,math,mmap,msvcrt,nt,parser,sys,tim\n",
      "e,winreg,xxsubtype,zipimport,zlib\n"
     ]
    }
   ],
   "source": [
    "#Write a Python program to find the available built-in modules.\n",
    "import textwrap\n",
    "module_name = ','.join(sorted(sys.builtin_module_names))\n",
    "print(textwrap.fill(module_name,width=70))"
   ]
  },
  {
   "cell_type": "code",
   "execution_count": 7,
   "metadata": {},
   "outputs": [
    {
     "name": "stdout",
     "output_type": "stream",
     "text": [
      "Memory size of 'one' = 52 bytes\n",
      "Memory size of 'four' = 53 bytes\n",
      "Memory size of 'three' = 54 bytes\n"
     ]
    }
   ],
   "source": [
    "#Write a Python program to get the size of an object in bytes.\n",
    "str1 = \"one\"\n",
    "str2 = \"four\"\n",
    "str3 = \"three\"\n",
    "print(\"Memory size of '\"+str1+\"' = \"+str(sys.getsizeof(str1))+ \" bytes\")\n",
    "print(\"Memory size of '\"+str2+\"' = \"+str(sys.getsizeof(str2))+ \" bytes\")\n",
    "print(\"Memory size of '\"+str3+\"' = \"+str(sys.getsizeof(str3))+ \" bytes\")"
   ]
  },
  {
   "cell_type": "code",
   "execution_count": 8,
   "metadata": {},
   "outputs": [
    {
     "name": "stdout",
     "output_type": "stream",
     "text": [
      "3000\n"
     ]
    }
   ],
   "source": [
    "#Write a Python program to get the current value of the recursion limit\n",
    "print(sys.getrecursionlimit())"
   ]
  },
  {
   "cell_type": "code",
   "execution_count": 9,
   "metadata": {},
   "outputs": [
    {
     "name": "stdout",
     "output_type": "stream",
     "text": [
      "All colors:  Red-White-Block\n"
     ]
    }
   ],
   "source": [
    "#Write a Python program to concatenate N strings\n",
    "colors = ['Red', 'White', 'Block']\n",
    "colors1 = '-'.join(colors)\n",
    "print('All colors: ',colors1)"
   ]
  },
  {
   "cell_type": "code",
   "execution_count": 11,
   "metadata": {},
   "outputs": [
    {
     "name": "stdout",
     "output_type": "stream",
     "text": [
      "60\n"
     ]
    }
   ],
   "source": [
    "#Write a Python program to calculate the sum over a container\n",
    "a = sum([10, 20, 30])\n",
    "print(a)"
   ]
  },
  {
   "cell_type": "code",
   "execution_count": 14,
   "metadata": {},
   "outputs": [
    {
     "ename": "TypeError",
     "evalue": "'list' object is not callable",
     "output_type": "error",
     "traceback": [
      "\u001b[1;31m---------------------------------------------------------------------------\u001b[0m",
      "\u001b[1;31mTypeError\u001b[0m                                 Traceback (most recent call last)",
      "\u001b[1;32m<ipython-input-14-d12efbbf9216>\u001b[0m in \u001b[0;36m<module>\u001b[1;34m\u001b[0m\n\u001b[0;32m      1\u001b[0m \u001b[1;31m#Write a Python program to test whether all numbers of a list is greater than a certain number\u001b[0m\u001b[1;33m\u001b[0m\u001b[1;33m\u001b[0m\u001b[1;33m\u001b[0m\u001b[0m\n\u001b[0;32m      2\u001b[0m \u001b[0mnum\u001b[0m \u001b[1;33m=\u001b[0m \u001b[1;33m[\u001b[0m\u001b[1;36m2\u001b[0m\u001b[1;33m,\u001b[0m \u001b[1;36m3\u001b[0m\u001b[1;33m,\u001b[0m \u001b[1;36m4\u001b[0m\u001b[1;33m,\u001b[0m \u001b[1;36m5\u001b[0m\u001b[1;33m]\u001b[0m\u001b[1;33m\u001b[0m\u001b[1;33m\u001b[0m\u001b[0m\n\u001b[1;32m----> 3\u001b[1;33m \u001b[0mprint\u001b[0m\u001b[1;33m(\u001b[0m\u001b[0mall\u001b[0m\u001b[1;33m(\u001b[0m\u001b[0mx\u001b[0m \u001b[1;33m>\u001b[0m \u001b[1;36m1\u001b[0m \u001b[1;32mfor\u001b[0m \u001b[0mx\u001b[0m \u001b[1;32min\u001b[0m \u001b[0mnum\u001b[0m\u001b[1;33m)\u001b[0m\u001b[1;33m)\u001b[0m\u001b[1;33m\u001b[0m\u001b[1;33m\u001b[0m\u001b[0m\n\u001b[0m\u001b[0;32m      4\u001b[0m \u001b[0mprint\u001b[0m\u001b[1;33m(\u001b[0m\u001b[0mall\u001b[0m\u001b[1;33m(\u001b[0m\u001b[0mx\u001b[0m \u001b[1;33m>\u001b[0m \u001b[1;36m4\u001b[0m \u001b[1;32mfor\u001b[0m \u001b[0mx\u001b[0m \u001b[1;32min\u001b[0m \u001b[0mnum\u001b[0m\u001b[1;33m)\u001b[0m\u001b[1;33m)\u001b[0m\u001b[1;33m\u001b[0m\u001b[1;33m\u001b[0m\u001b[0m\n",
      "\u001b[1;31mTypeError\u001b[0m: 'list' object is not callable"
     ]
    }
   ],
   "source": [
    "#Write a Python program to test whether all numbers of a list is greater than a certain number\n",
    "num = [2, 3, 4, 5]\n",
    "print(all(x > 1 for x in num))\n",
    "print(all(x > 4 for x in num))"
   ]
  },
  {
   "cell_type": "code",
   "execution_count": null,
   "metadata": {},
   "outputs": [],
   "source": []
  }
 ],
 "metadata": {
  "kernelspec": {
   "display_name": "Python 3",
   "language": "python",
   "name": "python3"
  },
  "language_info": {
   "codemirror_mode": {
    "name": "ipython",
    "version": 3
   },
   "file_extension": ".py",
   "mimetype": "text/x-python",
   "name": "python",
   "nbconvert_exporter": "python",
   "pygments_lexer": "ipython3",
   "version": "3.7.3"
  }
 },
 "nbformat": 4,
 "nbformat_minor": 2
}
