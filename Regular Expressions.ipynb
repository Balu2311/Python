{
 "cells": [
  {
   "cell_type": "code",
   "execution_count": 1,
   "metadata": {},
   "outputs": [],
   "source": [
    "import re"
   ]
  },
  {
   "cell_type": "code",
   "execution_count": 2,
   "metadata": {},
   "outputs": [
    {
     "name": "stdout",
     "output_type": "stream",
     "text": [
      "[]\n"
     ]
    }
   ],
   "source": [
    "str = \"Abcd 4 computer 765 python 687\"\n",
    "\n",
    "pattern = r'[a-zA-Z]+' \n",
    "match = re.findall(str, pattern)\n",
    "\n",
    "print(match)"
   ]
  },
  {
   "cell_type": "code",
   "execution_count": 3,
   "metadata": {},
   "outputs": [
    {
     "name": "stdout",
     "output_type": "stream",
     "text": [
      "['computer']\n"
     ]
    }
   ],
   "source": [
    "str = \"Abcd 4 computer 765 python 687\"\n",
    "\n",
    "pattern = 'computer'\n",
    "match = re.findall(pattern, str)\n",
    "\n",
    "print(match)"
   ]
  },
  {
   "cell_type": "code",
   "execution_count": 4,
   "metadata": {},
   "outputs": [
    {
     "name": "stdout",
     "output_type": "stream",
     "text": [
      "['Abcd', 'computer', 'python']\n"
     ]
    }
   ],
   "source": [
    "str = \"Abcd 4 computer 765 python 687\"\n",
    "\n",
    "pattern = r'[a-zA-Z]+'\n",
    "match = re.findall(pattern, str)\n",
    "\n",
    "print(match)"
   ]
  },
  {
   "cell_type": "code",
   "execution_count": 5,
   "metadata": {},
   "outputs": [
    {
     "name": "stdout",
     "output_type": "stream",
     "text": [
      "['Abcd', 'computer', 'python']\n"
     ]
    }
   ],
   "source": [
    "str = \"Abcd4 computer 765 python 687\"\n",
    "\n",
    "pattern = r'[a-zA-Z]+'\n",
    "match = re.findall(pattern, str)\n",
    "\n",
    "print(match)"
   ]
  },
  {
   "cell_type": "code",
   "execution_count": 6,
   "metadata": {},
   "outputs": [
    {
     "name": "stdout",
     "output_type": "stream",
     "text": [
      "['Abcd', 'computer', 'python']\n"
     ]
    }
   ],
   "source": [
    "str = \"Abcd4computer 765 python 687\"\n",
    "\n",
    "pattern = r'[a-zA-Z]+'\n",
    "match = re.findall(pattern, str)\n",
    "\n",
    "print(match)"
   ]
  },
  {
   "cell_type": "code",
   "execution_count": 7,
   "metadata": {},
   "outputs": [
    {
     "name": "stdout",
     "output_type": "stream",
     "text": [
      "['4', '765', '687']\n"
     ]
    }
   ],
   "source": [
    "str = \"Abcd 4 computer 765 python 687\"\n",
    "\n",
    "pattern = r'[0-9]+'\n",
    "match = re.findall(pattern, str)\n",
    "\n",
    "print(match)"
   ]
  },
  {
   "cell_type": "code",
   "execution_count": 8,
   "metadata": {},
   "outputs": [
    {
     "name": "stdout",
     "output_type": "stream",
     "text": [
      "['Abcd', '4', 'computer', '765', 'python', '687']\n"
     ]
    }
   ],
   "source": [
    "str = \"Abcd 4 computer 765 python 687\"\n",
    "\n",
    "pattern = r'[a-zA-Z0-9]+'\n",
    "match = re.findall(pattern, str)\n",
    "print(match)"
   ]
  },
  {
   "cell_type": "code",
   "execution_count": 9,
   "metadata": {},
   "outputs": [
    {
     "name": "stdout",
     "output_type": "stream",
     "text": [
      "['Abcd', ' 4', ' computer', ' 765', ' python', ' 687']\n"
     ]
    }
   ],
   "source": [
    "str = \"Abcd 4 computer 765 python 687\"\n",
    "\n",
    "pattern = r'.[^ ]+'\n",
    "match = re.findall(pattern, str)\n",
    "str = \"Abcd 4 computer 765 python 687\"\n",
    "\n",
    "print(match)"
   ]
  },
  {
   "cell_type": "code",
   "execution_count": 10,
   "metadata": {},
   "outputs": [
    {
     "name": "stdout",
     "output_type": "stream",
     "text": [
      "['Abcd', ' 4a', ' computer', ' 765', ' python', ' 687']\n"
     ]
    }
   ],
   "source": [
    "str = \"Abcd 4a computer 765 python 687\"\n",
    "pattern = r'.[^ ]+'\n",
    "match = re.findall(pattern, str)\n",
    "\n",
    "print(match)"
   ]
  },
  {
   "cell_type": "code",
   "execution_count": 11,
   "metadata": {},
   "outputs": [
    {
     "name": "stdout",
     "output_type": "stream",
     "text": [
      "apple\n",
      "banana\n",
      "orange\n",
      "peach\n",
      "avocado\n",
      "cherries\n",
      "\n"
     ]
    }
   ],
   "source": [
    "str = '''\n",
    "apple\n",
    "banana\n",
    "orange\n",
    "peach\n",
    "avocado\n",
    "cherries\n",
    "'''\n",
    "\n",
    "pattern =r'.[^ ]+'\n",
    "match = re.findall(pattern, str)\n",
    "for m in match:\n",
    "    print(m)"
   ]
  },
  {
   "cell_type": "code",
   "execution_count": 12,
   "metadata": {},
   "outputs": [
    {
     "name": "stdout",
     "output_type": "stream",
     "text": [
      "cherries\n"
     ]
    }
   ],
   "source": [
    "str = '''\n",
    "apple\n",
    "banana\n",
    "orange\n",
    "peach\n",
    "avocado\n",
    "cherries\n",
    "'''\n",
    "\n",
    "pattern =r'.*s'\n",
    "match = re.findall(pattern, str)\n",
    "for m in match:\n",
    "    print(m)"
   ]
  },
  {
   "cell_type": "code",
   "execution_count": 13,
   "metadata": {},
   "outputs": [
    {
     "name": "stdout",
     "output_type": "stream",
     "text": [
      "apple\n",
      "orange\n",
      "avocado\n"
     ]
    }
   ],
   "source": [
    "str = '''\n",
    "apple\n",
    "banana\n",
    "orange\n",
    "peach\n",
    "avocado\n",
    "cherries\n",
    "'''\n",
    "\n",
    "pattern =r'\\b[aeiou].+\\b'\n",
    "match = re.findall(pattern, str)\n",
    "for m in match:\n",
    "    print(m)"
   ]
  },
  {
   "cell_type": "code",
   "execution_count": 14,
   "metadata": {},
   "outputs": [
    {
     "name": "stdout",
     "output_type": "stream",
     "text": [
      "apple\n",
      "anana\n",
      "orange\n",
      "each\n",
      "avocado\n",
      "erries\n"
     ]
    }
   ],
   "source": [
    "str = '''\n",
    "apple\n",
    "banana\n",
    "orange\n",
    "peach\n",
    "avocado\n",
    "cherries\n",
    "'''\n",
    "\n",
    "pattern =r'[aeiou].+'\n",
    "match = re.findall(pattern, str)\n",
    "for m in match:\n",
    "    print(m)"
   ]
  },
  {
   "cell_type": "code",
   "execution_count": 15,
   "metadata": {},
   "outputs": [
    {
     "name": "stdout",
     "output_type": "stream",
     "text": [
      "apple\n",
      "anana\n",
      "orange\n",
      "each\n",
      "avocado\n",
      "erries\n"
     ]
    }
   ],
   "source": [
    "str = '''\n",
    "apple\n",
    "banana\n",
    "orange\n",
    "peach\n",
    "avocado\n",
    "cherries\n",
    "'''\n",
    "\n",
    "pattern =r'[aeiou].+\\b'\n",
    "match = re.findall(pattern, str)\n",
    "for m in match:\n",
    "    print(m)"
   ]
  },
  {
   "cell_type": "code",
   "execution_count": 16,
   "metadata": {},
   "outputs": [
    {
     "name": "stdout",
     "output_type": "stream",
     "text": [
      "vbnreddy5@gmail.com\n",
      "vbnreddy567@tmail.com\n"
     ]
    }
   ],
   "source": [
    "str = '''\n",
    "vbnreddy5@gmail.com\n",
    "password\n",
    "vbnreddy567@tmail.com\n",
    "hfg123@aol\n",
    "'''\n",
    "\n",
    "pattern =r'[a-z]+[0-9]*[a-z]*@[a-z]+\\.com'\n",
    "match = re.findall(pattern, str)\n",
    "for m in match:\n",
    "    print(m)"
   ]
  },
  {
   "cell_type": "code",
   "execution_count": 17,
   "metadata": {},
   "outputs": [
    {
     "name": "stdout",
     "output_type": "stream",
     "text": [
      "['vbnreddy5@gmail.com', 'vbnreddy567@tmail.com']\n"
     ]
    }
   ],
   "source": [
    "str = '''\n",
    "vbnreddy5@gmail.com\n",
    "password\n",
    "vbnreddy567@tmail.com\n",
    "hfg123@aol\n",
    "'''\n",
    "\n",
    "pattern =r'[a-z]+[0-9]*[a-z]*@[a-z]+\\.com'\n",
    "match = re.findall(pattern, str)\n",
    "print(match)"
   ]
  },
  {
   "cell_type": "code",
   "execution_count": 18,
   "metadata": {},
   "outputs": [
    {
     "name": "stdout",
     "output_type": "stream",
     "text": [
      "<re.Match object; span=(1, 20), match='vbnreddy5@gmail.com'>\n",
      "<re.Match object; span=(30, 51), match='vbnreddy567@tmail.com'>\n"
     ]
    }
   ],
   "source": [
    "str = '''\n",
    "vbnreddy5@gmail.com\n",
    "password\n",
    "vbnreddy567@tmail.com\n",
    "hfg123@aol\n",
    "'''\n",
    "\n",
    "pattern =r'[a-z]+[0-9]*[a-z]*@[a-z]+\\.com'\n",
    "match = re.finditer(pattern, str)\n",
    "for m in match:\n",
    "    print(m)"
   ]
  },
  {
   "cell_type": "code",
   "execution_count": 19,
   "metadata": {},
   "outputs": [
    {
     "name": "stdout",
     "output_type": "stream",
     "text": [
      "(1, 20)\n",
      "(30, 51)\n"
     ]
    }
   ],
   "source": [
    "str = '''\n",
    "vbnreddy5@gmail.com\n",
    "password\n",
    "vbnreddy567@tmail.com\n",
    "hfg123@aol\n",
    "'''\n",
    "\n",
    "pattern =r'[a-z]+[0-9]*[a-z]*@[a-z]+\\.com'\n",
    "match = re.finditer(pattern, str)\n",
    "for m in match:\n",
    "    print(m.span()) "
   ]
  },
  {
   "cell_type": "code",
   "execution_count": 20,
   "metadata": {},
   "outputs": [
    {
     "name": "stdout",
     "output_type": "stream",
     "text": [
      "\n",
      "sam\n",
      "car\n",
      "2453\n",
      "\n",
      "\n",
      "90\n",
      "\n"
     ]
    }
   ],
   "source": [
    "str = '''\n",
    "sam\n",
    "car\n",
    "2453\n",
    "Alexa\n",
    "John\n",
    "90\n",
    "'''\n",
    "pattern = r'\\b[A-Z][a-z]+\\b'\n",
    "nstr = re.sub(pattern,\"\",str)\n",
    "print(nstr)"
   ]
  },
  {
   "cell_type": "code",
   "execution_count": 21,
   "metadata": {},
   "outputs": [
    {
     "name": "stdout",
     "output_type": "stream",
     "text": [
      "\n",
      "sam\n",
      "\n",
      "2453\n",
      "\n",
      "\n",
      "90\n",
      "\n"
     ]
    }
   ],
   "source": [
    "str = '''\n",
    "sam\n",
    "Car\n",
    "2453\n",
    "Alexa\n",
    "John\n",
    "90\n",
    "'''\n",
    "pattern = r'\\b[A-Z][a-z]+\\b'\n",
    "nstr = re.sub(pattern,\"\",str)\n",
    "print(nstr)"
   ]
  },
  {
   "cell_type": "code",
   "execution_count": null,
   "metadata": {},
   "outputs": [],
   "source": []
  }
 ],
 "metadata": {
  "kernelspec": {
   "display_name": "Python 3",
   "language": "python",
   "name": "python3"
  },
  "language_info": {
   "codemirror_mode": {
    "name": "ipython",
    "version": 3
   },
   "file_extension": ".py",
   "mimetype": "text/x-python",
   "name": "python",
   "nbconvert_exporter": "python",
   "pygments_lexer": "ipython3",
   "version": "3.7.3"
  }
 },
 "nbformat": 4,
 "nbformat_minor": 2
}
