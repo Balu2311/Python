{
 "cells": [
  {
   "cell_type": "code",
   "execution_count": 1,
   "metadata": {},
   "outputs": [
    {
     "name": "stdout",
     "output_type": "stream",
     "text": [
      "[1, 2, 3, 4, 5, 6, 7, 8, 9, 10]\n",
      "(1, 2, 3, 4, 5, 6, 7, 8, 9, 10)\n"
     ]
    }
   ],
   "source": [
    "lst = [1,2,3,4,5,6,7,8,9,10]\n",
    "tpl0 = tuple(lst)\n",
    "tpl=(1,2,3,4,5,6,7,8,9,10)\n",
    "print(lst)\n",
    "print(tpl)"
   ]
  },
  {
   "cell_type": "code",
   "execution_count": 3,
   "metadata": {},
   "outputs": [
    {
     "name": "stdout",
     "output_type": "stream",
     "text": [
      "[1, 2, 3, 4, 5, 6, 7, 8, 9, 10]\n",
      "(1, 2, 3, 4, 5, 6, 7, 8, 9, 10)\n"
     ]
    },
    {
     "data": {
      "text/plain": [
       "'Welcome to simplilearn'"
      ]
     },
     "execution_count": 3,
     "metadata": {},
     "output_type": "execute_result"
    }
   ],
   "source": [
    "lst = [1,2,3,4,5,6,7,8,9,10]\n",
    "tpl0 = tuple(lst)\n",
    "tpl=(1,2,3,4,5,6,7,8,9,10)\n",
    "s= 'Welcome to simplilearn'\n",
    "print(lst)\n",
    "print(tpl)\n",
    "s"
   ]
  },
  {
   "cell_type": "code",
   "execution_count": 6,
   "metadata": {},
   "outputs": [
    {
     "name": "stdout",
     "output_type": "stream",
     "text": [
      "0= 1\n",
      "9= 10\n",
      "5= 6\n",
      "-3= 8\n"
     ]
    }
   ],
   "source": [
    "print('0=',lst[0])\n",
    "print('9=',lst[9])\n",
    "print('5=',lst[5])\n",
    "print('-3=',lst[-3])"
   ]
  },
  {
   "cell_type": "code",
   "execution_count": 7,
   "metadata": {},
   "outputs": [
    {
     "name": "stdout",
     "output_type": "stream",
     "text": [
      "8\n"
     ]
    }
   ],
   "source": [
    "print(lst[-3])"
   ]
  },
  {
   "cell_type": "code",
   "execution_count": 8,
   "metadata": {},
   "outputs": [
    {
     "name": "stdout",
     "output_type": "stream",
     "text": [
      "[0:3]= [1, 2, 3]\n"
     ]
    }
   ],
   "source": [
    "print('[0:3]=',lst[0:3])"
   ]
  },
  {
   "cell_type": "code",
   "execution_count": 9,
   "metadata": {},
   "outputs": [
    {
     "name": "stdout",
     "output_type": "stream",
     "text": [
      "[0:3]= [1, 2, 3]\n",
      "[3:9]= [4, 5, 6, 7, 8, 9, 10]\n",
      "[0:3]= [1, 2, 3, 4, 5, 6, 7, 8, 9]\n"
     ]
    }
   ],
   "source": [
    "print('[0:3]=',lst[0:3])\n",
    "print('[3:9]=',lst[3:10])\n",
    "print('[0:3]=',lst[0:-1])"
   ]
  },
  {
   "cell_type": "code",
   "execution_count": 10,
   "metadata": {},
   "outputs": [
    {
     "name": "stdout",
     "output_type": "stream",
     "text": [
      "[0:-1]= [1, 2, 3, 4, 5, 6, 7, 8, 9]\n",
      "[0:]= [1, 2, 3, 4, 5, 6, 7, 8, 9, 10]\n"
     ]
    }
   ],
   "source": [
    "print('[0:-1]=',lst[0:-1])\n",
    "print('[0:]=',lst[0:])"
   ]
  },
  {
   "cell_type": "code",
   "execution_count": 11,
   "metadata": {},
   "outputs": [
    {
     "name": "stdout",
     "output_type": "stream",
     "text": [
      "[-3:-1]= [8, 9]\n",
      "[:]= [1, 2, 3, 4, 5, 6, 7, 8, 9, 10]\n"
     ]
    }
   ],
   "source": [
    "print('[-3:-1]=',lst[-3:-1])\n",
    "print('[:]=',lst[:])"
   ]
  },
  {
   "cell_type": "code",
   "execution_count": 12,
   "metadata": {},
   "outputs": [
    {
     "name": "stdout",
     "output_type": "stream",
     "text": [
      "[::2]= [1, 3, 5, 7, 9]\n",
      "[:-1:-2]= [10, 8, 6, 4, 2]\n"
     ]
    }
   ],
   "source": [
    "print('[::2]=',lst[::2])\n",
    "print('[:-1:-2]=',lst[::-2])"
   ]
  },
  {
   "cell_type": "code",
   "execution_count": 13,
   "metadata": {},
   "outputs": [
    {
     "name": "stdout",
     "output_type": "stream",
     "text": [
      "[::-2]= [10, 8, 6, 4, 2]\n",
      "[-2::-2]= [9, 7, 5, 3, 1]\n"
     ]
    }
   ],
   "source": [
    "print('[::-2]=',lst[::-2])\n",
    "print('[-2::-2]=',lst[-2::-2])"
   ]
  },
  {
   "cell_type": "code",
   "execution_count": 14,
   "metadata": {},
   "outputs": [
    {
     "name": "stdout",
     "output_type": "stream",
     "text": [
      "tuple (10, 9, 8, 7, 6, 5, 4, 3, 2, 1)\n"
     ]
    }
   ],
   "source": [
    "print('tuple', tpl[::-1])"
   ]
  },
  {
   "cell_type": "code",
   "execution_count": 15,
   "metadata": {},
   "outputs": [
    {
     "name": "stdout",
     "output_type": "stream",
     "text": [
      "w\n",
      "simplilearn\n",
      "nraelilpmis ot emoclew\n"
     ]
    }
   ],
   "source": [
    "welcome = \"welcome to simplilearn\"\n",
    "print(welcome[0])\n",
    "print(welcome[11:])\n",
    "print(welcome[::-1])"
   ]
  },
  {
   "cell_type": "code",
   "execution_count": 16,
   "metadata": {},
   "outputs": [
    {
     "name": "stdout",
     "output_type": "stream",
     "text": [
      "[1, 2, 3, 4, 5, 6, 7, 8, 9, 10]\n",
      "[2, 4]\n"
     ]
    }
   ],
   "source": [
    "myslice = slice(1,5,2)\n",
    "print(lst)\n",
    "print(lst[myslice])"
   ]
  },
  {
   "cell_type": "code",
   "execution_count": 18,
   "metadata": {},
   "outputs": [
    {
     "name": "stdout",
     "output_type": "stream",
     "text": [
      "nraelilpmis\n"
     ]
    }
   ],
   "source": [
    "myslice=slice(-1,-12,-1)\n",
    "print(welcome[myslice])"
   ]
  },
  {
   "cell_type": "code",
   "execution_count": 19,
   "metadata": {},
   "outputs": [
    {
     "name": "stdout",
     "output_type": "stream",
     "text": [
      "Enter a stringwelcome to simplilearn\n",
      "enter asubstringwelcom\n",
      "0\n"
     ]
    }
   ],
   "source": [
    "s = input(\"Enter a string\")\n",
    "sub = input(\"enter asubstring\")\n",
    "print(s.find(sub))"
   ]
  },
  {
   "cell_type": "code",
   "execution_count": 20,
   "metadata": {},
   "outputs": [
    {
     "name": "stdout",
     "output_type": "stream",
     "text": [
      "Enter a stringsimplilearn\n",
      "enter asubstringsimplilearn\n",
      "0\n",
      "11 11\n"
     ]
    }
   ],
   "source": [
    "s = input(\"Enter a string\")\n",
    "sub = input(\"enter asubstring\")\n",
    "print(s.find(sub))\n",
    "\n",
    "lstr=len(s)\n",
    "lsub= len(sub)\n",
    "print(lstr, lsub)"
   ]
  },
  {
   "cell_type": "code",
   "execution_count": 21,
   "metadata": {},
   "outputs": [
    {
     "name": "stdout",
     "output_type": "stream",
     "text": [
      "Enter a stringsimplilearn\n",
      "enter asubstringwelcome to simplilearn\n",
      "-1\n",
      "invalid substring\n"
     ]
    }
   ],
   "source": [
    "s = input(\"Enter a string\")\n",
    "sub = input(\"enter asubstring\")\n",
    "print(s.find(sub))\n",
    "\n",
    "lstr=len(s)\n",
    "lsub= len(sub)\n",
    "if lsub>lstr:\n",
    "    print(\"invalid substring\")\n",
    "    exit()"
   ]
  },
  {
   "cell_type": "code",
   "execution_count": 3,
   "metadata": {},
   "outputs": [
    {
     "name": "stdout",
     "output_type": "stream",
     "text": [
      "Enter a stringwelcome to\n",
      "enter asubstringto\n",
      "8\n",
      "substring found at position  8\n"
     ]
    }
   ],
   "source": [
    "s = input(\"Enter a string\")\n",
    "sub = input(\"enter asubstring\")\n",
    "print(s.find(sub))\n",
    "\n",
    "lstr=len(s)\n",
    "lsub= len(sub)\n",
    "if lsub>lstr:\n",
    "    print(\"invalid substring\")\n",
    "    exit()\n",
    "flag = True\n",
    "for i in range(0, lstr-lsub+1):\n",
    "    myslice = slice(i,i+lsub)\n",
    "    temps= s[myslice]\n",
    "    if temps==sub:\n",
    "        flag = False\n",
    "        print(\"substring found at position \", i)\n",
    "        break\n",
    "if flag:\n",
    "    print(\"substring not found\")"
   ]
  },
  {
   "cell_type": "code",
   "execution_count": null,
   "metadata": {},
   "outputs": [],
   "source": []
  }
 ],
 "metadata": {
  "kernelspec": {
   "display_name": "Python 3",
   "language": "python",
   "name": "python3"
  },
  "language_info": {
   "codemirror_mode": {
    "name": "ipython",
    "version": 3
   },
   "file_extension": ".py",
   "mimetype": "text/x-python",
   "name": "python",
   "nbconvert_exporter": "python",
   "pygments_lexer": "ipython3",
   "version": "3.7.3"
  }
 },
 "nbformat": 4,
 "nbformat_minor": 2
}
