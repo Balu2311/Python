{
 "cells": [
  {
   "cell_type": "code",
   "execution_count": 2,
   "metadata": {},
   "outputs": [
    {
     "data": {
      "text/plain": [
       "'simplilearn'"
      ]
     },
     "execution_count": 2,
     "metadata": {},
     "output_type": "execute_result"
    }
   ],
   "source": [
    "stg= \"simplilearn\"\n",
    "stg"
   ]
  },
  {
   "cell_type": "code",
   "execution_count": 3,
   "metadata": {},
   "outputs": [
    {
     "data": {
      "text/plain": [
       "\"tim's birthady\""
      ]
     },
     "execution_count": 3,
     "metadata": {},
     "output_type": "execute_result"
    }
   ],
   "source": [
    "stg =\"tim's birthady\"\n",
    "stg"
   ]
  },
  {
   "cell_type": "code",
   "execution_count": 5,
   "metadata": {},
   "outputs": [
    {
     "data": {
      "text/plain": [
       "'tims siade,\"i am busy today\"'"
      ]
     },
     "execution_count": 5,
     "metadata": {},
     "output_type": "execute_result"
    }
   ],
   "source": [
    "stg= 'tims siade,\"i am busy today\"'\n",
    "stg"
   ]
  },
  {
   "cell_type": "code",
   "execution_count": 6,
   "metadata": {},
   "outputs": [
    {
     "data": {
      "text/plain": [
       "'tims siade,\"i \\'m busy today\"'"
      ]
     },
     "execution_count": 6,
     "metadata": {},
     "output_type": "execute_result"
    }
   ],
   "source": [
    "stg= 'tims siade,\"i \\'m busy today\"'\n",
    "stg"
   ]
  },
  {
   "cell_type": "code",
   "execution_count": 7,
   "metadata": {},
   "outputs": [
    {
     "data": {
      "text/plain": [
       "'hey thrae\\nwelcome to simplilearn'"
      ]
     },
     "execution_count": 7,
     "metadata": {},
     "output_type": "execute_result"
    }
   ],
   "source": [
    "stg='''hey thrae\n",
    "welcome to simplilearn'''\n",
    "stg"
   ]
  },
  {
   "cell_type": "code",
   "execution_count": 8,
   "metadata": {},
   "outputs": [
    {
     "data": {
      "text/plain": [
       "11"
      ]
     },
     "execution_count": 8,
     "metadata": {},
     "output_type": "execute_result"
    }
   ],
   "source": [
    "stg= \"simplilearn\"\n",
    "len(stg)"
   ]
  },
  {
   "cell_type": "code",
   "execution_count": 9,
   "metadata": {},
   "outputs": [
    {
     "name": "stdout",
     "output_type": "stream",
     "text": [
      "i\n"
     ]
    }
   ],
   "source": [
    "print(stg[5])"
   ]
  },
  {
   "cell_type": "code",
   "execution_count": 10,
   "metadata": {},
   "outputs": [
    {
     "name": "stdout",
     "output_type": "stream",
     "text": [
      "s\n",
      "i\n",
      "m\n",
      "p\n",
      "l\n",
      "i\n",
      "l\n",
      "e\n",
      "a\n",
      "r\n",
      "n\n"
     ]
    }
   ],
   "source": [
    "stg= \"simplilearn\"\n",
    "for i in stg:\n",
    "    print(i)"
   ]
  },
  {
   "cell_type": "code",
   "execution_count": 11,
   "metadata": {},
   "outputs": [
    {
     "name": "stdout",
     "output_type": "stream",
     "text": [
      "simplilearn"
     ]
    }
   ],
   "source": [
    "stg= \"simplilearn\"\n",
    "for i in stg:\n",
    "    print(i, end=\"\")"
   ]
  },
  {
   "cell_type": "code",
   "execution_count": 15,
   "metadata": {},
   "outputs": [
    {
     "name": "stdout",
     "output_type": "stream",
     "text": [
      "simpl\n",
      "simpl\n",
      "ilearn\n"
     ]
    }
   ],
   "source": [
    "stg= \"simplilearn\"\n",
    "print(stg[0:5])\n",
    "print(stg[:5])\n",
    "print(stg[5:])"
   ]
  },
  {
   "cell_type": "code",
   "execution_count": 19,
   "metadata": {},
   "outputs": [
    {
     "name": "stdout",
     "output_type": "stream",
     "text": [
      "WELCOME TO SIMPLILEARN\n",
      "welcome to simplilearn\n"
     ]
    }
   ],
   "source": [
    "stg= \"welcome to simplilearn\"\n",
    "print(stg.upper())\n",
    "print(stg.lower())"
   ]
  },
  {
   "cell_type": "code",
   "execution_count": 23,
   "metadata": {},
   "outputs": [
    {
     "name": "stdout",
     "output_type": "stream",
     "text": [
      "11\n",
      "11\n"
     ]
    }
   ],
   "source": [
    "stg= \"Welcome to Simplilearn\"\n",
    "print(stg.find('S'))\n",
    "print(stg.index('S'))"
   ]
  },
  {
   "cell_type": "code",
   "execution_count": 24,
   "metadata": {},
   "outputs": [
    {
     "name": "stdout",
     "output_type": "stream",
     "text": [
      "11\n"
     ]
    }
   ],
   "source": [
    "print(stg.index('S'))"
   ]
  },
  {
   "cell_type": "code",
   "execution_count": 29,
   "metadata": {},
   "outputs": [
    {
     "name": "stdout",
     "output_type": "stream",
     "text": [
      "['Welcome', 'to', 'Simplilearn']\n"
     ]
    }
   ],
   "source": [
    "stg= \"Welcome to Simplilearn\"\n",
    "print(stg.split(' '))"
   ]
  },
  {
   "cell_type": "code",
   "execution_count": 30,
   "metadata": {},
   "outputs": [
    {
     "name": "stdout",
     "output_type": "stream",
     "text": [
      "['Welcome', 'to', 'Simplilearn']\n"
     ]
    }
   ],
   "source": [
    "x= stg.split(\" \")\n",
    "print(x)"
   ]
  },
  {
   "cell_type": "code",
   "execution_count": 35,
   "metadata": {},
   "outputs": [
    {
     "name": "stdout",
     "output_type": "stream",
     "text": [
      "Welcome to Python tutorial\n"
     ]
    }
   ],
   "source": [
    "print(stg.replace(\"Simplilearn\",\"Python tutorial\"))\n"
   ]
  },
  {
   "cell_type": "code",
   "execution_count": 39,
   "metadata": {},
   "outputs": [
    {
     "name": "stdout",
     "output_type": "stream",
     "text": [
      "('Welcome', ' to ', 'Simplilearn')\n"
     ]
    }
   ],
   "source": [
    "print(stg.rpartition(\" to \"))"
   ]
  },
  {
   "cell_type": "code",
   "execution_count": 43,
   "metadata": {},
   "outputs": [
    {
     "name": "stdout",
     "output_type": "stream",
     "text": [
      "good morning\n"
     ]
    }
   ],
   "source": [
    "stg1=\"good\"\n",
    "stg2=\"morning\"\n",
    "stg = stg1+\" \"+stg2\n",
    "print(stg)"
   ]
  },
  {
   "cell_type": "code",
   "execution_count": 45,
   "metadata": {},
   "outputs": [
    {
     "name": "stdout",
     "output_type": "stream",
     "text": [
      "hey, there, all!\n"
     ]
    }
   ],
   "source": [
    "stg1=\"hey\"\n",
    "stg2=\"there\"\n",
    "stg3=\"all\"\n",
    "stg=\"{}, {}, {}!\".format(stg1,stg2,stg3)\n",
    "print(stg)"
   ]
  },
  {
   "cell_type": "code",
   "execution_count": 50,
   "metadata": {},
   "outputs": [
    {
     "name": "stdout",
     "output_type": "stream",
     "text": [
      "\n",
      "\n",
      "\n",
      "\n",
      "\n",
      " retnE\n",
      " retnE\n",
      " retnE a\n",
      " retnE a\n",
      " retnE a\n",
      " retnE a\n",
      " retnE a\n",
      " retnE a\n",
      " retnE a\n",
      " retnE a\n"
     ]
    }
   ],
   "source": [
    "stg=\"Enter a sentens\"\n",
    "temp=\"\"\n",
    "rev=\"\"\n",
    "for i in stg:\n",
    "    if i!=\" \":\n",
    "        temp=i+temp\n",
    "    else:\n",
    "        rev=rev+\" \"+temp\n",
    "        temp=\"\"\n",
    "    print(rev)"
   ]
  },
  {
   "cell_type": "code",
   "execution_count": 52,
   "metadata": {},
   "outputs": [
    {
     "name": "stdout",
     "output_type": "stream",
     "text": [
      "\n",
      "\n",
      "\n",
      "\n",
      "\n",
      " retnE\n",
      " retnE\n",
      " retnE a\n",
      " retnE a\n",
      " retnE a\n",
      " retnE a\n",
      " retnE a\n",
      " retnE a\n",
      " retnE a\n",
      " retnE a\n"
     ]
    }
   ],
   "source": [
    "stg=\"Enter a sentens\"  #welcome to simplilearn\n",
    "stg=stg+\"\"\n",
    "temp=\"\"\n",
    "rev=\"\"\n",
    "for i in stg:\n",
    "    if i!=\" \":\n",
    "        temp=i+temp\n",
    "    else:\n",
    "        rev=rev+\" \"+temp\n",
    "        temp=\"\"\n",
    "    print(rev)"
   ]
  },
  {
   "cell_type": "code",
   "execution_count": null,
   "metadata": {},
   "outputs": [],
   "source": []
  }
 ],
 "metadata": {
  "kernelspec": {
   "display_name": "Python 3",
   "language": "python",
   "name": "python3"
  },
  "language_info": {
   "codemirror_mode": {
    "name": "ipython",
    "version": 3
   },
   "file_extension": ".py",
   "mimetype": "text/x-python",
   "name": "python",
   "nbconvert_exporter": "python",
   "pygments_lexer": "ipython3",
   "version": "3.7.3"
  }
 },
 "nbformat": 4,
 "nbformat_minor": 2
}
