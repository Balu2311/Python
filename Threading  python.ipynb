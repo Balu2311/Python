{
 "cells": [
  {
   "cell_type": "code",
   "execution_count": 3,
   "metadata": {},
   "outputs": [
    {
     "name": "stdout",
     "output_type": "stream",
     "text": [
      "this is a child thread\n",
      "This is parent thread\n"
     ]
    }
   ],
   "source": [
    "from threading import *\n",
    "def show():\n",
    "    print(\"this is a child thread\")\n",
    "t= Thread(target=show())\n",
    "t.start()\n",
    "print(\"This is parent thread\")"
   ]
  },
  {
   "cell_type": "code",
   "execution_count": 5,
   "metadata": {},
   "outputs": [
    {
     "name": "stdout",
     "output_type": "stream",
     "text": [
      "this is a child class\n",
      "this is a child class\n",
      "this is a child class\n",
      "this is a child class\n",
      "this is a child class\n",
      "this is the main thread\n",
      "this is the main thread\n",
      "this is the main thread\n",
      "this is the main thread\n",
      "this is the main thread\n"
     ]
    }
   ],
   "source": [
    "class Mythread(Thread):\n",
    "    def run(self):\n",
    "        for i in range(5):\n",
    "            print(\"this is a child class\")\n",
    "t= Mythread()\n",
    "t.start()\n",
    "for i in range(5):\n",
    "    print(\"this is the main thread\")"
   ]
  },
  {
   "cell_type": "code",
   "execution_count": 6,
   "metadata": {},
   "outputs": [
    {
     "name": "stdout",
     "output_type": "stream",
     "text": [
      "\n",
      "this is a child class\n",
      "\n",
      "this is a child class\n",
      "\n",
      "this is a child class\n",
      "this is the main thread\n",
      "\n",
      "this is the main thread\n",
      "\n",
      "this is the main thread\n",
      "\n",
      "this is the main thread\n",
      "\n",
      "this is the main thread\n",
      "\n",
      "\n",
      "this is a child class\n",
      "\n",
      "this is a child class\n"
     ]
    }
   ],
   "source": [
    "class Mythread(Thread):\n",
    "    def run(self):\n",
    "        for i in range(5):\n",
    "            print(\"\\nthis is a child class\")\n",
    "t= Mythread()\n",
    "t.start()\n",
    "for i in range(5):\n",
    "    print(\"\\nthis is the main thread\")"
   ]
  },
  {
   "cell_type": "markdown",
   "metadata": {},
   "source": [
    "# Context switching"
   ]
  },
  {
   "cell_type": "markdown",
   "metadata": {},
   "source": [
    " #Multithreadind"
   ]
  },
  {
   "cell_type": "code",
   "execution_count": 8,
   "metadata": {},
   "outputs": [
    {
     "name": "stdout",
     "output_type": "stream",
     "text": [
      "The number is 1\n",
      "The number is 2\n",
      "The number is 3\n",
      "The number is 4\n",
      "The number is 5The double of the number is 2\n",
      "The double of the number is 4\n",
      "\n",
      "The double of the number is 6\n",
      "The double of the number is 8\n",
      "The double of the number is 10\n",
      "the square of the number is 1\n",
      "the square of the number is 4\n",
      "the square of the number is 9\n",
      "the square of the number is 16\n",
      "the square of the number is 25\n",
      "this is the main thread\n"
     ]
    }
   ],
   "source": [
    "class demo:\n",
    "    def num(self):\n",
    "        for i in range(1, 6):\n",
    "            print(\"The number is\",i)\n",
    "    def double(self):\n",
    "        for i in range(1, 6):\n",
    "            print(\"The double of the number is\", 2*i)\n",
    "    def square(self):\n",
    "        for i in range(1, 6):\n",
    "            print(\"the square of the number is\", i*i)\n",
    "            \n",
    "obj=demo()\n",
    "t1=Thread(target=obj.num)\n",
    "t2=Thread(target=obj.double)\n",
    "t3=Thread(target=obj.square)\n",
    "\n",
    "t1.start()\n",
    "t2.start()\n",
    "t3.start()\n",
    "\n",
    "t1.join()\n",
    "t2.join()\n",
    "t3.join()\n",
    "\n",
    "print(\"this is the main thread\")"
   ]
  },
  {
   "cell_type": "code",
   "execution_count": 9,
   "metadata": {},
   "outputs": [
    {
     "name": "stdout",
     "output_type": "stream",
     "text": [
      "The number is 1\n",
      "The double of the number is 2\n",
      "the square of the number is 1\n",
      "The number isthe square of the number is 2\n",
      "The double of the number is 4 4\n",
      "\n",
      "The number isthe square of the number is 3\n",
      "The double of the number is 6 9\n",
      "\n",
      "the square of the number isThe double of the number isThe number is 4\n",
      " 8\n",
      " 16\n",
      "The number isThe double of the number isthe square of the number is 25\n",
      " 5\n",
      " 10\n",
      "this is the main thread\n"
     ]
    }
   ],
   "source": [
    "import time\n",
    "class demo:\n",
    "    def num(self):\n",
    "        for i in range(1, 6):\n",
    "            print(\"The number is\",i)\n",
    "            time.sleep(1)\n",
    "    def double(self):\n",
    "        for i in range(1, 6):\n",
    "            print(\"The double of the number is\", 2*i)\n",
    "            time.sleep(1)\n",
    "    def square(self):\n",
    "        for i in range(1, 6):\n",
    "            print(\"the square of the number is\", i*i)\n",
    "            time.sleep(1)\n",
    "            \n",
    "obj=demo()\n",
    "t1=Thread(target=obj.num)\n",
    "t2=Thread(target=obj.double)\n",
    "t3=Thread(target=obj.square)\n",
    "\n",
    "t1.start()\n",
    "t2.start()\n",
    "t3.start()\n",
    "\n",
    "t1.join()\n",
    "t2.join()\n",
    "t3.join()\n",
    "\n",
    "print(\"this is the main thread\")"
   ]
  },
  {
   "cell_type": "code",
   "execution_count": 10,
   "metadata": {},
   "outputs": [
    {
     "name": "stdout",
     "output_type": "stream",
     "text": [
      "The number is 1\n",
      "The double of the number is 2\n",
      "the square of the number is 1\n",
      "The number is 2\n",
      "The double of the number is 4\n",
      "the square of the number is 4\n",
      "The number is 3\n",
      "The double of the number is 6\n",
      "the square of the number is 9\n",
      "The number is 4\n",
      "The double of the number is 8\n",
      "the square of the number is 16\n",
      "The number is 5\n",
      "The double of the number is 10\n",
      "the square of the number is 25\n",
      "this is the main thread\n"
     ]
    }
   ],
   "source": [
    "import time\n",
    "class demo:\n",
    "    def num(self):\n",
    "        for i in range(1, 6):\n",
    "            print(\"The number is\",i)\n",
    "            time.sleep(1)\n",
    "    def double(self):\n",
    "        for i in range(1, 6):\n",
    "            print(\"The double of the number is\", 2*i)\n",
    "            time.sleep(1)\n",
    "    def square(self):\n",
    "        for i in range(1, 6):\n",
    "            print(\"the square of the number is\", i*i)\n",
    "            time.sleep(1)\n",
    "            \n",
    "obj=demo()\n",
    "t1=Thread(target=obj.num)\n",
    "t2=Thread(target=obj.double)\n",
    "t3=Thread(target=obj.square)\n",
    "\n",
    "t1.start()\n",
    "time.sleep(0.2)\n",
    "t2.start()\n",
    "time.sleep(0.2)\n",
    "t3.start()\n",
    "\n",
    "t1.join()\n",
    "t2.join()\n",
    "t3.join()\n",
    "\n",
    "print(\"this is the main thread\")"
   ]
  },
  {
   "cell_type": "code",
   "execution_count": null,
   "metadata": {},
   "outputs": [],
   "source": []
  }
 ],
 "metadata": {
  "kernelspec": {
   "display_name": "Python 3",
   "language": "python",
   "name": "python3"
  },
  "language_info": {
   "codemirror_mode": {
    "name": "ipython",
    "version": 3
   },
   "file_extension": ".py",
   "mimetype": "text/x-python",
   "name": "python",
   "nbconvert_exporter": "python",
   "pygments_lexer": "ipython3",
   "version": "3.7.3"
  }
 },
 "nbformat": 4,
 "nbformat_minor": 2
}
